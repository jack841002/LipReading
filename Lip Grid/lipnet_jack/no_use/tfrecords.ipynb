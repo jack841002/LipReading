{
 "cells": [
  {
   "cell_type": "code",
   "execution_count": null,
   "metadata": {},
   "outputs": [],
   "source": [
    "import os \n",
    "import numpy as np\n",
    "import cv2\n",
    "from glob import glob\n",
    "from PIL import Image\n",
    "import imutils\n",
    "import gc\n",
    "import tensorflow as tf"
   ]
  },
  {
   "cell_type": "code",
   "execution_count": null,
   "metadata": {},
   "outputs": [],
   "source": [
    "image_overlap_train = np.load('./data_split/overlap/image_overlap_train.npy')\n",
    "image_overlap_val = np.load('./data_split/overlap/image_overlap_val.npy')\n",
    "\n",
    "f_val = open('./data_split/overlap/txt_overlap_val.txt')\n",
    "txt_overlap_val = []\n",
    "for line in f_val:\n",
    "    line = line.strip('\\n')\n",
    "    txt_overlap_val.append(line)\n",
    "    \n",
    "f_train = open('./data_split/overlap/txt_overlap_train.txt')\n",
    "txt_overlap_train = []\n",
    "for line in f_train:\n",
    "    line = line.strip('\\n')\n",
    "    txt_overlap_train.append(line)\n",
    "\n",
    "txt_overlap_train = np.array(txt_overlap_train)\n",
    "txt_overlap_val = np.array(txt_overlap_val)\n",
    "# image_overlap_train = np.array(image_overlap_train)\n",
    "# image_overlap_val = np.array(image_overlap_val)\n",
    "\n",
    "print(image_overlap_train.shape)\n",
    "print(image_overlap_val.shape)\n",
    "print(txt_overlap_train.shape)\n",
    "print(txt_overlap_val.shape)"
   ]
  },
  {
   "cell_type": "markdown",
   "metadata": {},
   "source": [
    "# save train tfrecords"
   ]
  },
  {
   "cell_type": "code",
   "execution_count": null,
   "metadata": {},
   "outputs": [],
   "source": [
    "# TFRecords 檔案名稱\n",
    "tfrecords_filename = './data_split/overlap/image_overlap_train.tfrecords'\n",
    "\n",
    "# 建立 TFRecordWriter\n",
    "writer = tf.python_io.TFRecordWriter(tfrecords_filename)    "
   ]
  },
  {
   "cell_type": "code",
   "execution_count": null,
   "metadata": {},
   "outputs": [],
   "source": [
    "for i in range(len(image_overlap_train)):\n",
    "    example = tf.train.Example(features=tf.train.Features(feature={\n",
    "        'image_train':tf.train.Feature(bytes_list=tf.train.BytesList(value=[image_overlap_train[i].astype(np.float32).tostring()])),\n",
    "        'txt_train':tf.train.Feature(bytes_list=tf.train.BytesList(value=[bytes(txt_overlap_train[i], encoding='utf8')]))\n",
    "    }))\n",
    "    \n",
    "    writer.write(example.SerializeToString())\n",
    "\n",
    "# 關閉 TFRecordWriter\n",
    "writer.close()"
   ]
  },
  {
   "cell_type": "markdown",
   "metadata": {},
   "source": [
    "# open train tfrecords"
   ]
  },
  {
   "cell_type": "code",
   "execution_count": null,
   "metadata": {},
   "outputs": [],
   "source": [
    "tfrecords_filename = './data_split/overlap/image_overlap_train.tfrecords'\n",
    "filename_queue = tf.train.string_input_producer([tfrecords_filename], num_epochs=50)\n",
    "\n",
    "# 建立 TFRecordReader\n",
    "reader = tf.TFRecordReader()\n",
    "\n",
    "# 讀取 TFRecords 的資料\n",
    "_, serialized_example = reader.read(filename_queue)\n",
    "\n",
    "features = tf.parse_single_example(\n",
    "    serialized_example,\n",
    "    features={\n",
    "      'image_train': tf.FixedLenFeature([], tf.string),\n",
    "      'txt_train': tf.FixedLenFeature([], tf.string)\n",
    "      })"
   ]
  },
  {
   "cell_type": "code",
   "execution_count": null,
   "metadata": {},
   "outputs": [],
   "source": [
    "image_train = tf.decode_raw(features['image_train'], tf.float32)"
   ]
  },
  {
   "cell_type": "code",
   "execution_count": null,
   "metadata": {},
   "outputs": [],
   "source": [
    "image_trainimage_train"
   ]
  },
  {
   "cell_type": "code",
   "execution_count": null,
   "metadata": {},
   "outputs": [],
   "source": []
  },
  {
   "cell_type": "code",
   "execution_count": null,
   "metadata": {},
   "outputs": [],
   "source": []
  }
 ],
 "metadata": {
  "kernelspec": {
   "display_name": "Python 3",
   "language": "python",
   "name": "python3"
  },
  "language_info": {
   "codemirror_mode": {
    "name": "ipython",
    "version": 3
   },
   "file_extension": ".py",
   "mimetype": "text/x-python",
   "name": "python",
   "nbconvert_exporter": "python",
   "pygments_lexer": "ipython3",
   "version": "3.7.3"
  }
 },
 "nbformat": 4,
 "nbformat_minor": 2
}
