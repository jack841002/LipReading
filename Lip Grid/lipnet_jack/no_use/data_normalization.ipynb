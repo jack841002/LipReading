{
 "cells": [
  {
   "cell_type": "code",
   "execution_count": 1,
   "metadata": {},
   "outputs": [],
   "source": [
    "import os \n",
    "import numpy as np\n",
    "import cv2\n",
    "from glob import glob\n",
    "from PIL import Image\n",
    "import imutils\n",
    "import gc"
   ]
  },
  {
   "cell_type": "code",
   "execution_count": null,
   "metadata": {},
   "outputs": [],
   "source": [
    "image_overlap_train = np.load('./data_split/overlap/image_overlap_train.npy')\n",
    "image_overlap_val = np.load('./data_split/overlap/image_overlap_val.npy')\n",
    "\n",
    "f_val = open('./data_split/overlap/txt_overlap_val.txt')\n",
    "txt_overlap_val = []\n",
    "for line in f_val:\n",
    "    line = line.strip('\\n')\n",
    "    txt_overlap_val.append(line)\n",
    "    \n",
    "f_train = open('./data_split/overlap/txt_overlap_train.txt')\n",
    "txt_overlap_train = []\n",
    "for line in f_train:\n",
    "    line = line.strip('\\n')\n",
    "    txt_overlap_train.append(line)\n",
    "\n",
    "txt_overlap_train = np.array(txt_overlap_train)\n",
    "txt_overlap_val = np.array(txt_overlap_val)\n",
    "# image_overlap_train = np.array(image_overlap_train)\n",
    "# image_overlap_val = np.array(image_overlap_val)\n",
    "\n",
    "print(image_overlap_train.shape)\n",
    "print(image_overlap_val.shape)\n",
    "print(txt_overlap_train.shape)\n",
    "print(txt_overlap_val.shape)"
   ]
  },
  {
   "cell_type": "code",
   "execution_count": null,
   "metadata": {},
   "outputs": [],
   "source": [
    "# image_overlap_val = image_overlap_val.astype('float32')\n",
    "# image_overlap_val /= 255\n",
    "# np.save('./data_split/overlap/image_overlap_val_normal', image_overlap_val)"
   ]
  },
  {
   "cell_type": "code",
   "execution_count": null,
   "metadata": {},
   "outputs": [],
   "source": [
    "# image_overlap_train = image_overlap_train[:6000].astype('float32')\n",
    "# image_overlap_train /= 255\n",
    "# np.save('./data_split/overlap/temp/d1', image_overlap_train)"
   ]
  },
  {
   "cell_type": "code",
   "execution_count": null,
   "metadata": {},
   "outputs": [],
   "source": [
    "# image_overlap_train = image_overlap_train[6000:12000].astype('float32')\n",
    "# image_overlap_train /= 255\n",
    "# np.save('./data_split/overlap/temp/d2', image_overlap_train)"
   ]
  },
  {
   "cell_type": "code",
   "execution_count": null,
   "metadata": {},
   "outputs": [],
   "source": [
    "image_overlap_train = image_overlap_train[12000:18000].astype('float32')\n",
    "image_overlap_train /= 255\n",
    "np.save('./data_split/overlap/temp/d3', image_overlap_train)"
   ]
  },
  {
   "cell_type": "code",
   "execution_count": null,
   "metadata": {},
   "outputs": [],
   "source": [
    "image_overlap_train[18000:24000].shape"
   ]
  },
  {
   "cell_type": "code",
   "execution_count": null,
   "metadata": {},
   "outputs": [],
   "source": [
    "image_overlap_train[24000:].shape"
   ]
  },
  {
   "cell_type": "code",
   "execution_count": null,
   "metadata": {},
   "outputs": [],
   "source": []
  },
  {
   "cell_type": "code",
   "execution_count": null,
   "metadata": {},
   "outputs": [],
   "source": []
  },
  {
   "cell_type": "code",
   "execution_count": null,
   "metadata": {},
   "outputs": [],
   "source": []
  },
  {
   "cell_type": "code",
   "execution_count": null,
   "metadata": {},
   "outputs": [],
   "source": [
    "image_overlap_val = np.load('./data_split/overlap/image_overlap_val_normal.npy')"
   ]
  },
  {
   "cell_type": "code",
   "execution_count": null,
   "metadata": {},
   "outputs": [],
   "source": []
  },
  {
   "cell_type": "code",
   "execution_count": null,
   "metadata": {},
   "outputs": [],
   "source": [
    "import random\n",
    "trainData = random.sample(range(10), 10)\n",
    "trainData"
   ]
  },
  {
   "cell_type": "code",
   "execution_count": null,
   "metadata": {},
   "outputs": [],
   "source": [
    "def getProperty(data):\n",
    "    for el in data:\n",
    "        if el % 2 == 0:\n",
    "            yield {'Data': el, 'Parity': 'even'}\n",
    "        else:\n",
    "            yield {'Data': el, 'Parity': 'odd'}"
   ]
  },
  {
   "cell_type": "code",
   "execution_count": null,
   "metadata": {},
   "outputs": [],
   "source": [
    "p = getProperty(trainData)\n",
    "print(p)"
   ]
  },
  {
   "cell_type": "code",
   "execution_count": null,
   "metadata": {},
   "outputs": [],
   "source": [
    "print(next(p))\n",
    "print(next(p))\n",
    "print(next(p))\n",
    "print(next(p))\n",
    "print(next(p))\n",
    "print(next(p))\n",
    "print(next(p))\n",
    "print(next(p))\n",
    "print(next(p))\n",
    "print(next(p))"
   ]
  },
  {
   "cell_type": "code",
   "execution_count": null,
   "metadata": {},
   "outputs": [],
   "source": [
    "for n in getProperty(trainData):\n",
    "    print(n)"
   ]
  },
  {
   "cell_type": "code",
   "execution_count": null,
   "metadata": {},
   "outputs": [],
   "source": []
  },
  {
   "cell_type": "code",
   "execution_count": 8,
   "metadata": {},
   "outputs": [],
   "source": [
    "a = np.arange(105)\n",
    "def batch_gen(data):  # 定义batch数据生成器\n",
    "    idx = 0\n",
    "    while True:\n",
    "#         if idx+10>100:\n",
    "#             idx=0\n",
    "        start = idx\n",
    "        idx += 10\n",
    "        yield data[start:start+10]"
   ]
  },
  {
   "cell_type": "code",
   "execution_count": 9,
   "metadata": {},
   "outputs": [
    {
     "name": "stdout",
     "output_type": "stream",
     "text": [
      "[0 1 2 3 4 5 6 7 8 9]\n",
      "[10 11 12 13 14 15 16 17 18 19]\n",
      "[20 21 22 23 24 25 26 27 28 29]\n",
      "[30 31 32 33 34 35 36 37 38 39]\n",
      "[40 41 42 43 44 45 46 47 48 49]\n",
      "[50 51 52 53 54 55 56 57 58 59]\n",
      "[60 61 62 63 64 65 66 67 68 69]\n",
      "[70 71 72 73 74 75 76 77 78 79]\n",
      "[80 81 82 83 84 85 86 87 88 89]\n",
      "[90 91 92 93 94 95 96 97 98 99]\n",
      "[100 101 102 103 104]\n",
      "[]\n",
      "[]\n",
      "[]\n",
      "[]\n",
      "[]\n",
      "[]\n",
      "[]\n",
      "[]\n",
      "[]\n"
     ]
    }
   ],
   "source": [
    "gen = batch_gen(a)\n",
    "for i in range(20):\n",
    "    b = next(gen)  # 在循环中利用next()函数调用batch数据\n",
    "    print(b)"
   ]
  },
  {
   "cell_type": "code",
   "execution_count": null,
   "metadata": {},
   "outputs": [],
   "source": []
  },
  {
   "cell_type": "code",
   "execution_count": null,
   "metadata": {},
   "outputs": [],
   "source": []
  },
  {
   "cell_type": "code",
   "execution_count": null,
   "metadata": {},
   "outputs": [],
   "source": []
  }
 ],
 "metadata": {
  "kernelspec": {
   "display_name": "Python 3",
   "language": "python",
   "name": "python3"
  },
  "language_info": {
   "codemirror_mode": {
    "name": "ipython",
    "version": 3
   },
   "file_extension": ".py",
   "mimetype": "text/x-python",
   "name": "python",
   "nbconvert_exporter": "python",
   "pygments_lexer": "ipython3",
   "version": "3.7.3"
  }
 },
 "nbformat": 4,
 "nbformat_minor": 2
}
