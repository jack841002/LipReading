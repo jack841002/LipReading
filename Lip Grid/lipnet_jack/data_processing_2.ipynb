{
 "cells": [
  {
   "cell_type": "code",
   "execution_count": null,
   "metadata": {},
   "outputs": [],
   "source": [
    "import os \n",
    "import numpy as np\n",
    "import cv2\n",
    "from glob import glob\n",
    "from PIL import Image\n",
    "import imutils\n",
    "import gc"
   ]
  },
  {
   "cell_type": "markdown",
   "metadata": {},
   "source": [
    "# unseen image (npy)"
   ]
  },
  {
   "cell_type": "code",
   "execution_count": null,
   "metadata": {},
   "outputs": [],
   "source": [
    "image_list_s1 = np.load('./data_split/image_s1.npy')\n",
    "image_list_s2 = np.load('./data_split/image_s2.npy')\n",
    "image_list_s3 = np.load('./data_split/image_s3.npy')\n",
    "image_list_s4 = np.load('./data_split/image_s4.npy')\n",
    "image_list_s5 = np.load('./data_split/image_s5.npy')\n",
    "image_list_s6 = np.load('./data_split/image_s6.npy')\n",
    "image_list_s7 = np.load('./data_split/image_s7.npy')\n",
    "image_list_s8 = np.load('./data_split/image_s8.npy')\n",
    "image_list_s9 = np.load('./data_split/image_s9.npy')\n",
    "image_list_s10 = np.load('./data_split/image_s10.npy')\n",
    "image_list_s11 = np.load('./data_split/image_s11.npy')\n",
    "image_list_s12 = np.load('./data_split/image_s12.npy')\n",
    "image_list_s13 = np.load('./data_split/image_s13.npy')\n",
    "image_list_s14 = np.load('./data_split/image_s14.npy')\n",
    "image_list_s15 = np.load('./data_split/image_s15.npy')\n",
    "image_list_s16 = np.load('./data_split/image_s16.npy')\n",
    "image_list_s17 = np.load('./data_split/image_s17.npy')\n",
    "image_list_s18 = np.load('./data_split/image_s18.npy')\n",
    "image_list_s19 = np.load('./data_split/image_s19.npy')\n",
    "image_list_s20 = np.load('./data_split/image_s20.npy')\n",
    "image_list_s22 = np.load('./data_split/image_s22.npy')\n",
    "image_list_s23 = np.load('./data_split/image_s23.npy')\n",
    "image_list_s24 = np.load('./data_split/image_s24.npy')\n",
    "image_list_s25 = np.load('./data_split/image_s25.npy')\n",
    "image_list_s26 = np.load('./data_split/image_s26.npy')\n",
    "image_list_s27 = np.load('./data_split/image_s27.npy')\n",
    "image_list_s28 = np.load('./data_split/image_s28.npy')\n",
    "image_list_s29 = np.load('./data_split/image_s29.npy')\n",
    "image_list_s30 = np.load('./data_split/image_s30.npy')\n",
    "image_list_s31 = np.load('./data_split/image_s31.npy')\n",
    "image_list_s32 = np.load('./data_split/image_s32.npy')\n",
    "image_list_s33 = np.load('./data_split/image_s33.npy')\n",
    "image_list_s34 = np.load('./data_split/image_s34.npy')"
   ]
  },
  {
   "cell_type": "code",
   "execution_count": null,
   "metadata": {},
   "outputs": [],
   "source": [
    "image_unseen_val = np.concatenate((image_list_s1, image_list_s2, image_list_s20, image_list_s22), axis=0)\n",
    "del image_list_s1, image_list_s2, image_list_s20, image_list_s22\n",
    "gc.collect()\n",
    "\n",
    "# save npy file\n",
    "np.save('./data_split/unseen/image_unseen_val', image_unseen_val)\n",
    "\n",
    "image_unseen_train = np.concatenate((image_list_s3, image_list_s4, image_list_s5, image_list_s6), axis=0)\n",
    "del image_list_s3, image_list_s4, image_list_s5, image_list_s6\n",
    "gc.collect()\n",
    "image_unseen_train = np.concatenate((image_unseen_train, image_list_s7, image_list_s8, image_list_s9, image_list_s10), axis=0)   \n",
    "del image_list_s7, image_list_s8, image_list_s9, image_list_s10\n",
    "gc.collect()\n",
    "image_unseen_train = np.concatenate((image_unseen_train, image_list_s11, image_list_s12, image_list_s13, image_list_s14), axis=0)\n",
    "del image_list_s11, image_list_s12, image_list_s13, image_list_s14\n",
    "gc.collect()\n",
    "image_unseen_train = np.concatenate((image_unseen_train, image_list_s15, image_list_s16, image_list_s17, image_list_s18), axis=0)\n",
    "del image_list_s15, image_list_s16, image_list_s17, image_list_s18\n",
    "gc.collect()\n",
    "image_unseen_train = np.concatenate((image_unseen_train, image_list_s19, image_list_s23, image_list_s24, image_list_s25), axis=0)\n",
    "del image_list_s19, image_list_s23, image_list_s24, image_list_s25\n",
    "gc.collect()\n",
    "\n",
    "# save npy file\n",
    "np.save('./data_split/temp', image_unseen_train)"
   ]
  },
  {
   "cell_type": "code",
   "execution_count": null,
   "metadata": {},
   "outputs": [],
   "source": [
    "image_unseen_train = np.load('./data_split/temp.npy')\n",
    "image_list_s26 = np.load('./data_split/image_s26.npy')\n",
    "image_list_s27 = np.load('./data_split/image_s27.npy')\n",
    "image_list_s28 = np.load('./data_split/image_s28.npy')\n",
    "image_list_s29 = np.load('./data_split/image_s29.npy')\n",
    "image_list_s30 = np.load('./data_split/image_s30.npy')\n",
    "image_list_s31 = np.load('./data_split/image_s31.npy')\n",
    "image_list_s32 = np.load('./data_split/image_s32.npy')\n",
    "image_list_s33 = np.load('./data_split/image_s33.npy')\n",
    "image_list_s34 = np.load('./data_split/image_s34.npy')"
   ]
  },
  {
   "cell_type": "code",
   "execution_count": null,
   "metadata": {},
   "outputs": [],
   "source": [
    "image_unseen_train = np.concatenate((image_unseen_train, image_list_s26, image_list_s27, image_list_s28, image_list_s29), axis=0)\n",
    "del image_list_s26, image_list_s27, image_list_s28, image_list_s29\n",
    "gc.collect()\n",
    "image_unseen_train = np.concatenate((image_unseen_train, image_list_s30, image_list_s31, image_list_s32, image_list_s33), axis=0)\n",
    "del image_list_s30, image_list_s31, image_list_s32, image_list_s33\n",
    "gc.collect()\n",
    "image_unseen_train = np.concatenate((image_unseen_train, image_list_s34), axis=0)\n",
    "del image_list_s34\n",
    "gc.collect()\n",
    "\n",
    "# save npy file\n",
    "np.save('./data_split/unseen/image_unseen_train', image_unseen_train)"
   ]
  },
  {
   "cell_type": "code",
   "execution_count": null,
   "metadata": {},
   "outputs": [],
   "source": [
    "print(image_unseen_val.shape)\n",
    "print(image_unseen_train.shape)"
   ]
  },
  {
   "cell_type": "markdown",
   "metadata": {},
   "source": [
    "# load unseen"
   ]
  },
  {
   "cell_type": "code",
   "execution_count": null,
   "metadata": {},
   "outputs": [],
   "source": [
    "image_unseen_train = np.load('./data_split/unseen/image_unseen_train.npy')\n",
    "image_unseen_val = np.load('./data_split/unseen/image_unseen_val.npy')"
   ]
  },
  {
   "cell_type": "code",
   "execution_count": null,
   "metadata": {},
   "outputs": [],
   "source": [
    "f_val = open('./data_split/unseen/txt_unseen_val.txt')\n",
    "txt_unseen_val = []\n",
    "for line in f_val:\n",
    "    line = line.strip('\\n')\n",
    "    txt_unseen_val.append(line)\n",
    "    \n",
    "f_train = open('./data_split/unseen/txt_unseen_train.txt')\n",
    "txt_unseen_train = []\n",
    "for line in f_train:\n",
    "    line = line.strip('\\n')\n",
    "    txt_unseen_train.append(line)"
   ]
  },
  {
   "cell_type": "code",
   "execution_count": null,
   "metadata": {},
   "outputs": [],
   "source": [
    "print(image_unseen_train.shape)\n",
    "print(image_unseen_val.shape)"
   ]
  },
  {
   "cell_type": "code",
   "execution_count": null,
   "metadata": {},
   "outputs": [],
   "source": [
    "print(len(txt_unseen_train))\n",
    "print(len(txt_unseen_val))"
   ]
  },
  {
   "cell_type": "markdown",
   "metadata": {},
   "source": [
    "# overlap image (npy)"
   ]
  },
  {
   "cell_type": "code",
   "execution_count": null,
   "metadata": {},
   "outputs": [],
   "source": [
    "import os \n",
    "import numpy as np\n",
    "import cv2\n",
    "from glob import glob\n",
    "from PIL import Image\n",
    "import imutils\n",
    "import gc"
   ]
  },
  {
   "cell_type": "code",
   "execution_count": null,
   "metadata": {},
   "outputs": [],
   "source": [
    "image_list_s1 = np.load('./data_split/image_s1.npy')\n",
    "image_list_s2 = np.load('./data_split/image_s2.npy')\n",
    "image_list_s3 = np.load('./data_split/image_s3.npy')\n",
    "image_list_s4 = np.load('./data_split/image_s4.npy')\n",
    "image_list_s5 = np.load('./data_split/image_s5.npy')\n",
    "image_list_s6 = np.load('./data_split/image_s6.npy')\n",
    "image_list_s7 = np.load('./data_split/image_s7.npy')\n",
    "image_list_s8 = np.load('./data_split/image_s8.npy')\n",
    "image_list_s9 = np.load('./data_split/image_s9.npy')\n",
    "image_list_s10 = np.load('./data_split/image_s10.npy')\n",
    "image_list_s11 = np.load('./data_split/image_s11.npy')\n",
    "image_list_s12 = np.load('./data_split/image_s12.npy')\n",
    "image_list_s13 = np.load('./data_split/image_s13.npy')\n",
    "image_list_s14 = np.load('./data_split/image_s14.npy')\n",
    "image_list_s15 = np.load('./data_split/image_s15.npy')\n",
    "image_list_s16 = np.load('./data_split/image_s16.npy')\n",
    "image_list_s17 = np.load('./data_split/image_s17.npy')\n",
    "image_list_s18 = np.load('./data_split/image_s18.npy')\n",
    "image_list_s19 = np.load('./data_split/image_s19.npy')\n",
    "image_list_s20 = np.load('./data_split/image_s20.npy')\n",
    "image_list_s22 = np.load('./data_split/image_s22.npy')\n",
    "image_list_s23 = np.load('./data_split/image_s23.npy')\n",
    "image_list_s24 = np.load('./data_split/image_s24.npy')\n",
    "image_list_s25 = np.load('./data_split/image_s25.npy')\n",
    "image_list_s26 = np.load('./data_split/image_s26.npy')\n",
    "image_list_s27 = np.load('./data_split/image_s27.npy')\n",
    "image_list_s28 = np.load('./data_split/image_s28.npy')\n",
    "image_list_s29 = np.load('./data_split/image_s29.npy')\n",
    "image_list_s30 = np.load('./data_split/image_s30.npy')\n",
    "image_list_s31 = np.load('./data_split/image_s31.npy')\n",
    "image_list_s32 = np.load('./data_split/image_s32.npy')\n",
    "image_list_s33 = np.load('./data_split/image_s33.npy')\n",
    "image_list_s34 = np.load('./data_split/image_s34.npy')"
   ]
  },
  {
   "cell_type": "code",
   "execution_count": null,
   "metadata": {},
   "outputs": [],
   "source": [
    "image_train_s1 = image_list_s1[:800]\n",
    "image_val_s1 = image_list_s1[800:]\n",
    "image_train_s2 = image_list_s2[:800]\n",
    "image_val_s2 = image_list_s2[800:]\n",
    "image_train_s3 = image_list_s3[:800]\n",
    "image_val_s3 = image_list_s3[800:]\n",
    "image_train_s4 = image_list_s4[:800]\n",
    "image_val_s4 = image_list_s4[800:]\n",
    "image_train_s5 = image_list_s5[:800]\n",
    "image_val_s5 = image_list_s5[800:]\n",
    "image_train_s6 = image_list_s6[:800]\n",
    "image_val_s6 = image_list_s6[800:]# save npy file\n",
    "np.save('./data_split/overlap/image_overlap_val', image_overlap_val)# save npy file\n",
    "np.save('./data_split/overlap/image_overlap_val', image_overlap_val)\n",
    "image_train_s7 = image_list_s7[:800]\n",
    "image_val_s7 = image_list_s7[800:]\n",
    "image_train_s8 = image_list_s8[:800]\n",
    "image_val_s8 = image_list_s8[800:]\n",
    "image_train_s9 = image_list_s9[:800]\n",
    "image_val_s9 = image_list_s9[800:]\n",
    "image_train_s10 = image_list_s10[:800]\n",
    "image_val_s10 = image_list_s10[800:]\n",
    "image_train_s11 = image_list_s11[:800]\n",
    "image_val_s11 = image_list_s11[800:]\n",
    "image_train_s12 = image_list_s12[:800]\n",
    "image_val_s12 = image_list_s12[800:]\n",
    "image_train_s13 = image_list_s13[:800]\n",
    "image_val_s13 = image_list_s13[800:]\n",
    "image_train_s14 = image_list_s14[:800]\n",
    "image_val_s14 = image_list_s14[800:]\n",
    "image_train_s15 = image_list_s15[:800]\n",
    "image_val_s15 = image_list_s15[800:]\n",
    "image_train_s16 = image_list_s16[:800]\n",
    "image_val_s16 = image_list_s16[800:]\n",
    "image_train_s17 = image_list_s17[:800]\n",
    "image_val_s17 = image_list_s17[800:]\n",
    "image_train_s18 = image_list_s18[:800]\n",
    "image_val_s18 = image_list_s18[800:]\n",
    "image_train_s19 = image_list_s19[:800]\n",
    "image_val_s19 = image_list_s19[800:]\n",
    "image_train_s20 = image_list_s20[:800]\n",
    "image_val_s20 = image_list_s20[800:]\n",
    "image_train_s22 = image_list_s22[:800]\n",
    "image_val_s22 = image_list_s22[800:]\n",
    "image_train_s23 = image_list_s23[:800]\n",
    "image_val_s23 = image_list_s23[800:]\n",
    "image_train_s24 = image_list_s24[:800]\n",
    "image_val_s24 = image_list_s24[800:]\n",
    "image_train_s25 = image_list_s25[:800]\n",
    "image_val_s25 = image_list_s25[800:]\n",
    "image_train_s26 = image_list_s26[:800]\n",
    "image_val_s26 = image_list_s26[800:]\n",
    "image_train_s27 = image_list_s27[:800]\n",
    "image_val_s27 = image_list_s27[800:]\n",
    "image_train_s28 = image_list_s28[:800]\n",
    "image_val_s28 = image_list_s28[800:]\n",
    "image_train_s29 = image_list_s29[:800]\n",
    "image_val_s29 = image_list_s29[800:]\n",
    "image_train_s30 = image_list_s30[:800]\n",
    "image_val_s30 = image_list_s30[800:]\n",
    "image_train_s31 = image_list_s31[:800]\n",
    "image_val_s31 = image_list_s31[800:]\n",
    "image_train_s32 = image_list_s32[:800]\n",
    "image_val_s32 = image_list_s32[800:]\n",
    "image_train_s33 = image_list_s33[:800]\n",
    "image_val_s33 = image_list_s33[800:]\n",
    "image_train_s34 = image_list_s34[:800]\n",
    "image_val_s34 = image_list_s34[800:]"
   ]
  },
  {
   "cell_type": "code",
   "execution_count": null,
   "metadata": {},
   "outputs": [],
   "source": [
    "image_overlap_val = np.concatenate((image_val_s1, image_val_s2, image_val_s3, image_val_s4, image_val_s5,\n",
    "    image_val_s6, image_val_s7, image_val_s8, image_val_s9, image_val_s10, image_val_s11, image_val_s12,\n",
    "    image_val_s13, image_val_s14, image_val_s15, image_val_s16, image_val_s17, image_val_s18, image_val_s19,\n",
    "    image_val_s20, image_val_s22, image_val_s23, image_val_s24, image_val_s25, image_val_s26, image_val_s27,\n",
    "    image_val_s28, image_val_s29, image_val_s30, image_val_s31, image_val_s32, image_val_s33, image_val_s34),\n",
    "                                   axis=0)\n",
    "\n",
    "# save npy file\n",
    "np.save('./data_split/overlap/image_overlap_val', image_overlap_val)\n",
    "\n",
    "# del image_val_s1, image_val_s2, image_val_s20, image_val_s22\n",
    "# gc.collect()"
   ]
  },
  {
   "cell_type": "code",
   "execution_count": null,
   "metadata": {},
   "outputs": [],
   "source": [
    "image_overlap_train = np.concatenate((image_train_s1, image_train_s2, image_train_s3, image_train_s4, image_train_s5,\n",
    "    image_train_s6, image_train_s7, image_train_s8, image_train_s9, image_train_s10, image_train_s11, image_train_s12,\n",
    "    image_train_s13, image_train_s14, image_train_s15, image_train_s16, image_train_s17, image_train_s18, image_train_s19,\n",
    "    image_train_s20, image_train_s22, image_train_s23, image_train_s24, image_train_s25, image_train_s26, image_train_s27,\n",
    "    image_train_s28, image_train_s29, image_train_s30, image_train_s31, image_train_s32, image_train_s33, image_train_s34),\n",
    "                                   axis=0)\n",
    "\n",
    "# save npy file\n",
    "np.save('./data_split/overlap/image_overlap_train', image_overlap_train)"
   ]
  },
  {
   "cell_type": "markdown",
   "metadata": {},
   "source": [
    "# load overlap"
   ]
  },
  {
   "cell_type": "code",
   "execution_count": null,
   "metadata": {},
   "outputs": [],
   "source": [
    "image_overlap_train = np.load('./data_split/overlap/image_overlap_train.npy')\n",
    "image_overlap_val = np.load('./data_split/overlap/image_overlap_val.npy')"
   ]
  },
  {
   "cell_type": "code",
   "execution_count": null,
   "metadata": {},
   "outputs": [],
   "source": [
    "f_val = open('./data_split/overlap/txt_overlap_val.txt')\n",
    "txt_overlap_val = []\n",
    "for line in f_val:\n",
    "    line = line.strip('\\n')\n",
    "    txt_overlap_val.append(line)\n",
    "    \n",
    "f_train = open('./data_split/overlap/txt_overlap_train.txt')\n",
    "txt_overlap_train = []\n",
    "for line in f_train:\n",
    "    line = line.strip('\\n')\n",
    "    txt_overlap_train.append(line)"
   ]
  },
  {
   "cell_type": "code",
   "execution_count": null,
   "metadata": {},
   "outputs": [],
   "source": [
    "print(image_overlap_train.shape)\n",
    "print(image_overlap_val.shape)"
   ]
  },
  {
   "cell_type": "code",
   "execution_count": null,
   "metadata": {},
   "outputs": [],
   "source": [
    "print(len(txt_overlap_train))\n",
    "print(len(txt_overlap_val))"
   ]
  },
  {
   "cell_type": "code",
   "execution_count": null,
   "metadata": {},
   "outputs": [],
   "source": []
  },
  {
   "cell_type": "code",
   "execution_count": null,
   "metadata": {},
   "outputs": [],
   "source": []
  },
  {
   "cell_type": "code",
   "execution_count": null,
   "metadata": {},
   "outputs": [],
   "source": []
  }
 ],
 "metadata": {
  "kernelspec": {
   "display_name": "Python 3",
   "language": "python",
   "name": "python3"
  },
  "language_info": {
   "codemirror_mode": {
    "name": "ipython",
    "version": 3
   },
   "file_extension": ".py",
   "mimetype": "text/x-python",
   "name": "python",
   "nbconvert_exporter": "python",
   "pygments_lexer": "ipython3",
   "version": "3.7.3"
  }
 },
 "nbformat": 4,
 "nbformat_minor": 2
}
