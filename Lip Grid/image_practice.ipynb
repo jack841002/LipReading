{
 "cells": [
  {
   "cell_type": "code",
   "execution_count": null,
   "metadata": {},
   "outputs": [],
   "source": [
    "import matplotlib.pyplot as plt # plt 用於顯示圖片\n",
    "import matplotlib.image as mpimg # mpimg 用於讀取圖片\n",
    "import numpy as np\n",
    "import cv2"
   ]
  },
  {
   "cell_type": "markdown",
   "metadata": {},
   "source": [
    "# matplitlib"
   ]
  },
  {
   "cell_type": "code",
   "execution_count": null,
   "metadata": {},
   "outputs": [],
   "source": [
    "# 讀取和程式碼處於同一目錄下的 001.jpg\n",
    "lena = mpimg.imread('./image_eng/bbaf2n/001.jpg') \n",
    "# 此時 lena 就已經是一個 np.array 了，可以對它進行任意處理\n",
    "lena.shape #(512, 512, 3)\n",
    "plt.imshow(lena) # 顯示圖片\n",
    "plt.axis('off') # 不顯示座標軸\n",
    "plt.show()"
   ]
  },
  {
   "cell_type": "code",
   "execution_count": null,
   "metadata": {},
   "outputs": [],
   "source": [
    "# RGB image to gray image\n",
    "def rgb2gray(rgb):\n",
    "    return np.dot(rgb[...,:3], [0.299, 0.587, 0.114])\n",
    "\n",
    "gray = rgb2gray(lena)  \n",
    "# 也可以用 plt.imshow(gray, cmap = plt.get_cmap('gray'))\n",
    "plt.imshow(gray, cmap='Greys_r')\n",
    "plt.axis('off')\n",
    "plt.show()"
   ]
  },
  {
   "cell_type": "code",
   "execution_count": null,
   "metadata": {},
   "outputs": [],
   "source": [
    "# image compression\n",
    "import scipy.misc\n",
    "from scipy import misc\n",
    "\n",
    "lena_new_sz = cv2.resize(lena, (100,100)) # 第二個引數如果是整數，則為百分比，如果是tuple，則為輸出影象的尺寸\n",
    "plt.imshow(lena_new_sz)\n",
    "plt.axis('off')\n",
    "plt.show()"
   ]
  },
  {
   "cell_type": "code",
   "execution_count": null,
   "metadata": {},
   "outputs": [],
   "source": [
    "# # 適用於儲存任何 matplotlib 畫出的影象，相當於一個 screencapture。\n",
    "# plt.imshow(lena_new_sz)\n",
    "# plt.axis('off')\n",
    "# plt.savefig('lena_new_sz.png')"
   ]
  },
  {
   "cell_type": "markdown",
   "metadata": {},
   "source": [
    "# PIL"
   ]
  },
  {
   "cell_type": "code",
   "execution_count": null,
   "metadata": {},
   "outputs": [],
   "source": [
    "# 顯示圖片\n",
    "from PIL import Image\n",
    "im = Image.open('./image_eng/bbaf2n/001.jpg')\n",
    "im.show()"
   ]
  },
  {
   "cell_type": "code",
   "execution_count": null,
   "metadata": {},
   "outputs": [],
   "source": [
    "# 將 PIL Image 圖片轉換為 numpy 陣列\n",
    "im_array = np.array(im)\n",
    "im_array.shape"
   ]
  },
  {
   "cell_type": "code",
   "execution_count": null,
   "metadata": {},
   "outputs": [],
   "source": [
    "# # 直接呼叫 Image 類的 save 方法\n",
    "# from PIL import Image\n",
    "# I = Image.open('lena.png')\n",
    "# I.save('new_lena.png')"
   ]
  },
  {
   "cell_type": "code",
   "execution_count": null,
   "metadata": {},
   "outputs": [],
   "source": [
    "# 將 numpy 陣列轉換為 PIL 圖片\n",
    "import matplotlib.image as mpimg\n",
    "from PIL import Image\n",
    "lena = mpimg.imread('./image_eng/bbaf2n/001.jpg') # 這裡讀入的資料是 float32 型的，範圍是0-1\n",
    "# 此時 lena 就已經是一個 np.array 了，可以對它進行任意處理\n",
    "lena.shape #(512, 512, 3)\n",
    "plt.imshow(lena) # 顯示圖片\n",
    "plt.axis('off') # 不顯示座標軸im = Image.open('./image_eng/bbaf2n/001.jpg')\n",
    "plt.show()\n",
    "# im = Image.fromarray(np.uinit8(lena*255))\n",
    "# im.show()"
   ]
  },
  {
   "cell_type": "code",
   "execution_count": null,
   "metadata": {},
   "outputs": [],
   "source": [
    "# RGB to gray圖\n",
    "from PIL import Image\n",
    "I = Image.open('./image_eng/bbaf2n/001.jpg')\n",
    "I.show()\n",
    "L = I.convert('L')\n",
    "L.show()"
   ]
  },
  {
   "cell_type": "markdown",
   "metadata": {},
   "source": [
    "# CV2"
   ]
  },
  {
   "cell_type": "code",
   "execution_count": null,
   "metadata": {},
   "outputs": [],
   "source": [
    "# 顯示圖片\n",
    "import cv2\n",
    "img = cv2.imread('./GridCorpus/s1/image/bbaf2n/001.jpg') \n",
    "cv2.namedWindow(\"Image\") \n",
    "cv2.imshow(\"Image\",img)\n",
    "cv2.waitKey (0)\n",
    "cv2.destroyAllWindows()"
   ]
  },
  {
   "cell_type": "code",
   "execution_count": null,
   "metadata": {},
   "outputs": [],
   "source": []
  },
  {
   "cell_type": "code",
   "execution_count": null,
   "metadata": {},
   "outputs": [],
   "source": []
  }
 ],
 "metadata": {
  "kernelspec": {
   "display_name": "Python 3",
   "language": "python",
   "name": "python3"
  },
  "language_info": {
   "codemirror_mode": {
    "name": "ipython",
    "version": 3
   },
   "file_extension": ".py",
   "mimetype": "text/x-python",
   "name": "python",
   "nbconvert_exporter": "python",
   "pygments_lexer": "ipython3",
   "version": "3.7.3"
  }
 },
 "nbformat": 4,
 "nbformat_minor": 2
}
