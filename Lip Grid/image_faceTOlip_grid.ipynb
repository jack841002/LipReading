{
 "cells": [
  {
   "cell_type": "code",
   "execution_count": 1,
   "metadata": {},
   "outputs": [],
   "source": [
    "import dlib\n",
    "import cv2\n",
    "import imutils\n",
    "from imutils.face_utils import *\n",
    "import matplotlib.pyplot as plt # plt 用於顯示圖片\n",
    "import matplotlib.image as mpimg # mpimg 用於讀取圖片\n",
    "import numpy as np\n",
    "import os\n",
    "import shutil\n",
    "from os import listdir\n",
    "from os.path import isfile, isdir, join\n",
    "from PIL import Image"
   ]
  },
  {
   "cell_type": "code",
   "execution_count": 2,
   "metadata": {},
   "outputs": [],
   "source": [
    "# 取得預設的臉部偵測器\n",
    "detector = dlib.get_frontal_face_detector()\n",
    "# 根據shape_predictor方法載入68個特徵點模型，此方法為人臉表情識別的偵測器\n",
    "landmark_predictor = dlib.shape_predictor('shape_predictor_68_face_landmarks.dat') "
   ]
  },
  {
   "cell_type": "code",
   "execution_count": 3,
   "metadata": {},
   "outputs": [],
   "source": [
    "target_path = \"./GridCorpus/s30/Lip_image/\"                                         # modify"
   ]
  },
  {
   "cell_type": "code",
   "execution_count": 4,
   "metadata": {},
   "outputs": [],
   "source": [
    "# 指定要列出所有檔案的目錄\n",
    "original_path = \"./GridCorpus/s30/image/\"                                           # modify\n",
    "\n",
    "# 取得所有檔案名稱\n",
    "folder_files = listdir(original_path)      "
   ]
  },
  {
   "cell_type": "code",
   "execution_count": 5,
   "metadata": {},
   "outputs": [],
   "source": [
    "for folder in folder_files:\n",
    "    files_path = original_path + folder + \"/\"         # \"./image/bbaf2n/\"\n",
    "    \n",
    "    tar_path = target_path + folder                   # \"./Lip_image/bbaf2n\"\n",
    "    # 如果指定目錄不存在就建立目錄\n",
    "    if not os.path.isdir(tar_path):\n",
    "        os.mkdir(tar_path)\n",
    "    \n",
    "    all_files = listdir(files_path)\n",
    "    \n",
    "    for files in all_files:\n",
    "        file = files_path + files                     # \"./image/bbaf2n/001.jpg\"\n",
    "        \n",
    "        img = cv2.imread(file) \n",
    "        face_rects = detector(img, 1)\n",
    "        \n",
    "        # 取出偵測的結果\n",
    "        for i, d in enumerate(face_rects):\n",
    "            x1 = d.left()\n",
    "            y1 = d.top()\n",
    "            x2 = d.right()\n",
    "            y2 = d.bottom()\n",
    "\n",
    "        #     # 繪製出偵測人臉的矩形範圍\n",
    "        #     cv2.rectangle(img, (x1, y1), (x2, y2), ( 0, 255, 0), 4, cv2. LINE_AA) \n",
    "\n",
    "        #     # 給68特徵點辨識取得一個轉換顏色的frame\n",
    "        #     landmarks_frame = cv2.cvtColor(img, cv2. COLOR_BGR2RGB) \n",
    "\n",
    "            # 找出特徵點位置  # 根據此座標範圍讀取臉部特徵點\n",
    "            shape = landmark_predictor(img, d) \n",
    "\n",
    "\n",
    "            # 將特徵點轉為numpy (68,2)\n",
    "            shape = shape_to_np(shape)\n",
    "        #     print(shape)\n",
    "\n",
    "            # loop over the face parts individually \n",
    "            for(name, (i,j)) in FACIAL_LANDMARKS_IDXS.items(): \n",
    "\n",
    "                if i==48 and j==68:\n",
    "                    # clone the original image so we can draw on it, then \n",
    "                    # display the name of the face part on the image \n",
    "                    clone = img.copy() \n",
    "\n",
    "                    cv2.putText(clone, name, (10,30), cv2.FONT_HERSHEY_SIMPLEX, 0.7, (0,0,255), 2) \n",
    "\n",
    "                    # loop over the subset of facial landmarks, drawing the \n",
    "                    # specific face part \n",
    "                    for (x, y) in shape[i:j]: \n",
    "                        cv2.circle(clone, (x , y), 1, (0, 0, 255), -1) \n",
    "\n",
    "                    # extract the ROI of the face region as a separate image \n",
    "                    # x，y是矩阵左上点的坐标，w，h是矩阵的宽和高\n",
    "                    (x, y, w, h) = cv2.boundingRect(np.array([shape[i:j]])) \n",
    "                    y = y-15\n",
    "                    x = x-15\n",
    "        #             print(x, y, w, h)\n",
    "                    roi = img[y : y + h + 30, x: x + w + 30]\n",
    "                    roi = imutils.resize(roi, width = 100, inter = cv2.INTER_CUBIC) \n",
    "\n",
    "#                     # 讓視窗可以自由縮放大小\n",
    "#                     cv2.namedWindow('Image', cv2.WINDOW_NORMAL)\n",
    "                    \n",
    "                    write_location = tar_path + \"/\" + files    # \"./Lip_image/bbaf2n/001.jpg\"\n",
    "                    # 寫入圖檔\n",
    "                    cv2.imwrite(write_location, roi)\n",
    "    \n",
    "    "
   ]
  },
  {
   "cell_type": "code",
   "execution_count": null,
   "metadata": {},
   "outputs": [],
   "source": []
  },
  {
   "cell_type": "code",
   "execution_count": null,
   "metadata": {},
   "outputs": [],
   "source": []
  },
  {
   "cell_type": "code",
   "execution_count": null,
   "metadata": {},
   "outputs": [],
   "source": []
  },
  {
   "cell_type": "code",
   "execution_count": 6,
   "metadata": {},
   "outputs": [],
   "source": [
    "import dlib\n",
    "import cv2\n",
    "import imutils\n",
    "from imutils.face_utils import *\n",
    "import matplotlib.pyplot as plt # plt 用於顯示圖片\n",
    "import matplotlib.image as mpimg # mpimg 用於讀取圖片\n",
    "import numpy as np\n",
    "import os\n",
    "import shutil\n",
    "from os import listdir\n",
    "from os.path import isfile, isdir, join\n",
    "from PIL import Image"
   ]
  },
  {
   "cell_type": "code",
   "execution_count": 7,
   "metadata": {},
   "outputs": [],
   "source": [
    "# 取得預設的臉部偵測器\n",
    "detector = dlib.get_frontal_face_detector()\n",
    "# 根據shape_predictor方法載入68個特徵點模型，此方法為人臉表情識別的偵測器\n",
    "landmark_predictor = dlib.shape_predictor('shape_predictor_68_face_landmarks.dat') "
   ]
  },
  {
   "cell_type": "code",
   "execution_count": 8,
   "metadata": {},
   "outputs": [],
   "source": [
    "img = cv2.imread('./GridCorpus/s1/image/bbaf2n/001.jpg') \n",
    "face_rects = detector(img, 1)"
   ]
  },
  {
   "cell_type": "code",
   "execution_count": 9,
   "metadata": {},
   "outputs": [
    {
     "data": {
      "text/plain": [
       "rectangles[[(103, 128) (211, 235)]]"
      ]
     },
     "execution_count": 9,
     "metadata": {},
     "output_type": "execute_result"
    }
   ],
   "source": [
    "face_rects"
   ]
  },
  {
   "cell_type": "code",
   "execution_count": 10,
   "metadata": {},
   "outputs": [
    {
     "name": "stdout",
     "output_type": "stream",
     "text": [
      "[[102 167]\n",
      " [104 182]\n",
      " [106 196]\n",
      " [108 211]\n",
      " [113 225]\n",
      " [122 236]\n",
      " [135 244]\n",
      " [148 251]\n",
      " [163 252]\n",
      " [177 249]\n",
      " [187 241]\n",
      " [197 231]\n",
      " [202 218]\n",
      " [205 204]\n",
      " [206 190]\n",
      " [205 175]\n",
      " [205 161]\n",
      " [112 154]\n",
      " [117 146]\n",
      " [127 143]\n",
      " [137 145]\n",
      " [147 147]\n",
      " [164 146]\n",
      " [174 143]\n",
      " [183 141]\n",
      " [193 143]\n",
      " [198 151]\n",
      " [157 158]\n",
      " [157 169]\n",
      " [158 178]\n",
      " [159 189]\n",
      " [148 198]\n",
      " [153 199]\n",
      " [159 200]\n",
      " [164 199]\n",
      " [170 198]\n",
      " [123 161]\n",
      " [128 157]\n",
      " [136 157]\n",
      " [142 163]\n",
      " [136 164]\n",
      " [128 164]\n",
      " [169 162]\n",
      " [175 156]\n",
      " [182 155]\n",
      " [188 158]\n",
      " [183 162]\n",
      " [176 163]\n",
      " [140 219]\n",
      " [147 217]\n",
      " [154 215]\n",
      " [160 217]\n",
      " [165 215]\n",
      " [172 216]\n",
      " [180 218]\n",
      " [174 223]\n",
      " [167 226]\n",
      " [161 227]\n",
      " [155 227]\n",
      " [148 225]\n",
      " [143 220]\n",
      " [155 220]\n",
      " [160 220]\n",
      " [166 219]\n",
      " [177 218]\n",
      " [166 220]\n",
      " [161 221]\n",
      " [155 220]]\n"
     ]
    }
   ],
   "source": [
    "# 取出偵測的結果\n",
    "for i, d in enumerate(face_rects):\n",
    "    x1 = d.left()\n",
    "    y1 = d.top()\n",
    "    x2 = d.right()\n",
    "    y2 = d.bottom()\n",
    "    \n",
    "#     # 繪製出偵測人臉的矩形範圍\n",
    "#     cv2.rectangle(img, (x1, y1), (x2, y2), ( 0, 255, 0), 4, cv2. LINE_AA) \n",
    "    \n",
    "#     # 給68特徵點辨識取得一個轉換顏色的frame\n",
    "#     landmarks_frame = cv2.cvtColor(img, cv2. COLOR_BGR2RGB) \n",
    "\n",
    "    # 找出特徵點位置  # 根據此座標範圍讀取臉部特徵點\n",
    "    shape = landmark_predictor(img, d) \n",
    "    \n",
    "    \n",
    "    # 將特徵點轉為numpy (68,2)\n",
    "    shape = shape_to_np(shape)\n",
    "    print(shape)\n",
    "    \n",
    "    # loop over the face parts individually \n",
    "    for(name, (i,j)) in FACIAL_LANDMARKS_IDXS.items(): \n",
    "        \n",
    "        if i==48 and j==68:\n",
    "            # clone the original image so we can draw on it, then \n",
    "            # display the name of the face part on the image \n",
    "            clone = img.copy() \n",
    "\n",
    "            cv2.putText(clone, name, (10,30), cv2.FONT_HERSHEY_SIMPLEX, 0.7, (0,0,255), 2) \n",
    "\n",
    "            # loop over the subset of facial landmarks, drawing the \n",
    "            # specific face part \n",
    "            for (x, y) in shape[i:j]: \n",
    "                cv2.circle(clone, (x , y), 1, (0, 0, 255), -1) \n",
    "\n",
    "            # extract the ROI of the face region as a separate image \n",
    "            # x，y是矩阵左上点的坐标，w，h是矩阵的宽和高\n",
    "            (x, y, w, h) = cv2.boundingRect(np.array([shape[i:j]])) \n",
    "            y = y-15\n",
    "            x = x-15\n",
    "#             print(x, y, w, h)\n",
    "            roi = img[y : y + h + 30, x: x + w + 30]\n",
    "            roi = imutils.resize(roi, width = 100, inter = cv2.INTER_CUBIC ) \n",
    "            \n",
    "        \n",
    "            # 讓視窗可以自由縮放大小\n",
    "            cv2.namedWindow('Image', cv2.WINDOW_NORMAL)\n",
    "\n",
    "            # 寫入圖檔\n",
    "#             cv2.imwrite('./Lip_image_eng/output.jpg', roi)inter = cv2.INTER_CUBIC\n",
    "            \n",
    "            \n",
    "            # show the particular face part \n",
    "            cv2.imshow(\"ROI\", roi) \n",
    "            cv2.imshow(\"Image\", clone) \n",
    "            cv2.waitKey(0)\n",
    "            cv2.destroyAllWindows()\n",
    " \n",
    "    # visualize all facial landmarks with a transparent overlay \n",
    "#     output = visualize_facial_landmarks(img, shape) \n",
    "#     cv2.imshow(\"Image\", output) \n",
    "#     cv2.waitKey(0)\n",
    "    \n",
    "    \n",
    "#     # 繪製68個特徵點  \n",
    "#     for i in range(68):\n",
    "#         cv2.circle(img,(shape.part(i).x,shape.part(i).y), 3,(0, 0, 255), 2)\n",
    "# #         cv2.putText(img, str(i),(shape.part(i).x,shape.part(i).y),cv2.FONT_HERSHEY_COMPLEX, 0.5,(255, 0, 0), 1)\n",
    "        \n",
    "# # # 輸出到畫面\n",
    "# cv2.namedWindow(\"Image\") \n",
    "# cv2.imshow( \"Face Detection\", img) \n",
    "# cv2.waitKey(0)\n",
    "# cv2.destroyAllWindows()\n",
    "# # plt.imshow(img) # 顯示圖片"
   ]
  },
  {
   "cell_type": "code",
   "execution_count": null,
   "metadata": {},
   "outputs": [],
   "source": []
  },
  {
   "cell_type": "code",
   "execution_count": null,
   "metadata": {},
   "outputs": [],
   "source": []
  },
  {
   "cell_type": "code",
   "execution_count": null,
   "metadata": {},
   "outputs": [],
   "source": []
  },
  {
   "cell_type": "code",
   "execution_count": null,
   "metadata": {},
   "outputs": [],
   "source": []
  },
  {
   "cell_type": "code",
   "execution_count": null,
   "metadata": {},
   "outputs": [],
   "source": [
    " "
   ]
  },
  {
   "cell_type": "code",
   "execution_count": null,
   "metadata": {},
   "outputs": [],
   "source": []
  },
  {
   "cell_type": "code",
   "execution_count": null,
   "metadata": {},
   "outputs": [],
   "source": []
  }
 ],
 "metadata": {
  "kernelspec": {
   "display_name": "Python 3",
   "language": "python",
   "name": "python3"
  },
  "language_info": {
   "codemirror_mode": {
    "name": "ipython",
    "version": 3
   },
   "file_extension": ".py",
   "mimetype": "text/x-python",
   "name": "python",
   "nbconvert_exporter": "python",
   "pygments_lexer": "ipython3",
   "version": "3.7.3"
  }
 },
 "nbformat": 4,
 "nbformat_minor": 2
}
