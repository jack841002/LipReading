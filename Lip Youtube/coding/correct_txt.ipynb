{
 "cells": [
  {
   "cell_type": "code",
   "execution_count": null,
   "metadata": {},
   "outputs": [],
   "source": [
    "import os \n",
    "import numpy as np\n",
    "import cv2\n",
    "from glob import glob\n",
    "from PIL import Image\n",
    "from keras import backend as K\n",
    "import imutils\n",
    "import gc\n",
    "import re\n",
    "import string\n",
    "from collections import Counter"
   ]
  },
  {
   "cell_type": "code",
   "execution_count": null,
   "metadata": {},
   "outputs": [],
   "source": [
    "f_val = open('./split_data/txt_val.txt')\n",
    "txt_val = []\n",
    "for line in f_val:\n",
    "    line = line.strip('\\n')\n",
    "    txt_val.append(line)\n",
    "    \n",
    "f_train = open('./split_data/txt_train.txt')\n",
    "txt_train = []\n",
    "for line in f_train:\n",
    "    line = line.strip('\\n')\n",
    "    txt_train.append(line)"
   ]
  },
  {
   "cell_type": "code",
   "execution_count": null,
   "metadata": {},
   "outputs": [],
   "source": [
    "# 去除所有半形全形符號，只留字母、數字、中文，漢字的範圍為”\\u4e00-\\u9fa5“，這個是用Unicode表示的，所以前面必須要加”u“\n",
    "def remove_punctuation(line):\n",
    "    rule = re.compile(u\"[^a-zA-Z0-9\\u4e00-\\u9fa5]\")\n",
    "    line = rule.sub('',line)\n",
    "    return line"
   ]
  },
  {
   "cell_type": "code",
   "execution_count": null,
   "metadata": {},
   "outputs": [],
   "source": [
    "for i in range(len(txt_train)):\n",
    "    txt_train[i] = remove_punctuation(txt_train[i])\n",
    "    \n",
    "for i in range(len(txt_val)):\n",
    "    txt_val[i] = remove_punctuation(txt_val[i])"
   ]
  },
  {
   "cell_type": "code",
   "execution_count": null,
   "metadata": {},
   "outputs": [],
   "source": [
    "------------------------------------------------------------------------------------------------------"
   ]
  },
  {
   "cell_type": "code",
   "execution_count": null,
   "metadata": {},
   "outputs": [],
   "source": [
    "# save txt file\n",
    "with open('./split_data/correct_txt_val.txt', 'w') as txt_val_w:\n",
    "    for txt in txt_val:\n",
    "        txt_val_w.write(txt)\n",
    "        txt_val_w.write('\\n')\n",
    "\n",
    "with open('./split_data/correct_txt_train.txt', 'w') as txt_train_w:\n",
    "    for txt in txt_train:\n",
    "        txt_train_w.write(txt)\n",
    "        txt_train_w.write('\\n')"
   ]
  },
  {
   "cell_type": "code",
   "execution_count": null,
   "metadata": {},
   "outputs": [],
   "source": [
    "------------------------------------------------------------------------------------------------------"
   ]
  },
  {
   "cell_type": "code",
   "execution_count": null,
   "metadata": {},
   "outputs": [],
   "source": []
  }
 ],
 "metadata": {
  "kernelspec": {
   "display_name": "Python 3",
   "language": "python",
   "name": "python3"
  },
  "language_info": {
   "codemirror_mode": {
    "name": "ipython",
    "version": 3
   },
   "file_extension": ".py",
   "mimetype": "text/x-python",
   "name": "python",
   "nbconvert_exporter": "python",
   "pygments_lexer": "ipython3",
   "version": "3.7.3"
  }
 },
 "nbformat": 4,
 "nbformat_minor": 2
}
