{
 "cells": [
  {
   "cell_type": "code",
   "execution_count": null,
   "metadata": {},
   "outputs": [],
   "source": [
    "import os \n",
    "import numpy as np\n",
    "import cv2\n",
    "from glob import glob\n",
    "from PIL import Image\n",
    "import imutils\n",
    "import gc"
   ]
  },
  {
   "cell_type": "markdown",
   "metadata": {},
   "source": [
    "# merge 25 image (npy)"
   ]
  },
  {
   "cell_type": "code",
   "execution_count": null,
   "metadata": {},
   "outputs": [],
   "source": [
    "image_list_s7 = np.load('./np_data/7.npy')\n",
    "image_list_s8 = np.load('./np_data/8.npy')\n",
    "image_list_s9 = np.load('./np_data/9.npy')\n",
    "image_list_s10 = np.load('./np_data/10.npy')\n",
    "image_list_s11 = np.load('./np_data/11.npy')\n",
    "image_list_s12 = np.load('./np_data/12.npy')\n",
    "image_list_s13 = np.load('./np_data/13.npy')\n",
    "image_list_s14 = np.load('./np_data/14.npy')\n",
    "image_list_s15 = np.load('./np_data/15.npy')\n",
    "image_list_s21 = np.load('./np_data/21.npy')\n",
    "image_list_s22 = np.load('./np_data/22.npy')\n",
    "image_list_s24 = np.load('./np_data/24.npy')\n",
    "image_list_s27 = np.load('./np_data/27.npy')\n",
    "image_list_s30 = np.load('./np_data/30.npy')\n",
    "image_list_s31 = np.load('./np_data/31.npy')\n",
    "image_list_s32 = np.load('./np_data/32.npy')\n",
    "image_list_s33 = np.load('./np_data/33.npy')\n",
    "image_list_s34 = np.load('./np_data/34.npy')\n",
    "image_list_s35 = np.load('./np_data/35.npy')\n",
    "image_list_s36 = np.load('./np_data/36.npy')\n",
    "image_list_s37 = np.load('./np_data/37.npy')\n",
    "image_list_s38 = np.load('./np_data/38.npy')\n",
    "image_list_s39 = np.load('./np_data/39.npy')\n",
    "image_list_s40 = np.load('./np_data/40.npy')\n",
    "image_list_s41 = np.load('./np_data/41.npy')"
   ]
  },
  {
   "cell_type": "code",
   "execution_count": null,
   "metadata": {},
   "outputs": [],
   "source": [
    "image_list = np.concatenate((image_list_s7, image_list_s8, image_list_s9, image_list_s10,image_list_s11,\n",
    "                             image_list_s12,image_list_s13,image_list_s14,image_list_s15,image_list_s21,\n",
    "                             image_list_s22, image_list_s24, image_list_s27, image_list_s30), axis=0)\n",
    "del image_list_s7,image_list_s8,image_list_s9,image_list_s10\n",
    "del image_list_s11,image_list_s12, image_list_s13,image_list_s14,image_list_s15\n",
    "del image_list_s21, image_list_s22, image_list_s24, image_list_s27, image_list_s30\n",
    "image_list = np.concatenate((image_list, image_list_s31, image_list_s32, image_list_s33, image_list_s34, \n",
    "                             image_list_s35),axis=0)\n",
    "del image_list_s31,image_list_s32,image_list_s33,image_list_s34,image_list_s35\n",
    "image_list = np.concatenate((image_list, image_list_s36, image_list_s37, image_list_s38, image_list_s39, \n",
    "                             image_list_s40),axis=0)\n",
    "del image_list_s36, image_list_s37,image_list_s38, image_list_s39,image_list_s40\n",
    "image_list = np.concatenate((image_list, image_list_s41), axis=0)\n",
    "del image_list_s41\n",
    "gc.collect()"
   ]
  },
  {
   "cell_type": "code",
   "execution_count": null,
   "metadata": {},
   "outputs": [],
   "source": [
    "maxlen = 100\n",
    "image_list = image_list.reshape(( int(len(image_list)/maxlen) , maxlen, 50, 100, 3))\n",
    "print(image_list.shape)"
   ]
  },
  {
   "cell_type": "markdown",
   "metadata": {},
   "source": [
    "# merge 25 txt"
   ]
  },
  {
   "cell_type": "code",
   "execution_count": null,
   "metadata": {},
   "outputs": [],
   "source": [
    "txt_num = [7,8,9,10,11,12,13,14,15,21,22,24,27,30,31,32,33,34,35,36,37,38,39,40,41]"
   ]
  },
  {
   "cell_type": "code",
   "execution_count": null,
   "metadata": {},
   "outputs": [],
   "source": [
    "temp = \"./txt_data/7.txt\"\n",
    "total_txt = []\n",
    "for num in txt_num:\n",
    "    if num != 7:\n",
    "        temp = temp.replace(temp.split(\"/\")[2], str(num)+\".txt\")\n",
    "    \n",
    "    txt = []\n",
    "    f = open(temp)\n",
    "    for line in f:\n",
    "        line = line.strip('\\n')\n",
    "        txt.append(line)\n",
    "    \n",
    "    total_txt = total_txt + txt\n",
    "    \n",
    "print(len(total_txt))"
   ]
  },
  {
   "cell_type": "markdown",
   "metadata": {},
   "source": [
    "# data shuffle and split"
   ]
  },
  {
   "cell_type": "code",
   "execution_count": null,
   "metadata": {},
   "outputs": [],
   "source": [
    "temp_zip = list(zip(image_list, total_txt))\n",
    "import random\n",
    "random.shuffle(temp_zip)\n",
    "image_list, total_txt = zip(*temp_zip)\n",
    "del temp_zip\n",
    "gc.collect()"
   ]
  },
  {
   "cell_type": "code",
   "execution_count": null,
   "metadata": {},
   "outputs": [],
   "source": [
    "image_list = np.asarray(image_list)\n",
    "print(image_list.shape)\n",
    "total_txt = np.asarray(total_txt)\n",
    "total_txt = total_txt.tolist()\n",
    "print(len(total_txt))"
   ]
  },
  {
   "cell_type": "code",
   "execution_count": null,
   "metadata": {},
   "outputs": [],
   "source": [
    "image_train = image_list[:2111]\n",
    "txt_train = total_txt[:2111]\n",
    "image_val = image_list[2111:]\n",
    "txt_val = total_txt[2111:]\n",
    "del image_list, total_txt\n",
    "gc.collect()"
   ]
  },
  {
   "cell_type": "code",
   "execution_count": null,
   "metadata": {},
   "outputs": [],
   "source": [
    "print(image_train.shape)\n",
    "print(len(txt_train))\n",
    "print(image_val.shape)\n",
    "print(len(txt_val))"
   ]
  },
  {
   "cell_type": "code",
   "execution_count": null,
   "metadata": {},
   "outputs": [],
   "source": [
    "-----------------------------------------------------------------------------------------------------------"
   ]
  },
  {
   "cell_type": "markdown",
   "metadata": {},
   "source": [
    "# save numpy and txt file"
   ]
  },
  {
   "cell_type": "code",
   "execution_count": null,
   "metadata": {},
   "outputs": [],
   "source": [
    "# save npy file\n",
    "np.save('./split_data/image_train', image_train)\n",
    "np.save('./split_data/image_val', image_val)\n",
    "\n",
    "# save txt file\n",
    "with open('./split_data/txt_train.txt', 'w') as txt_train_data:\n",
    "    for txt in txt_train:\n",
    "        txt_train_data.write(txt)\n",
    "        txt_train_data.write('\\n')\n",
    "with open('./split_data/txt_val.txt', 'w') as txt_val_data:\n",
    "    for txt in txt_val:\n",
    "        txt_val_data.write(txt)\n",
    "        txt_val_data.write('\\n')"
   ]
  },
  {
   "cell_type": "markdown",
   "metadata": {},
   "source": [
    "# load image and txt"
   ]
  },
  {
   "cell_type": "code",
   "execution_count": null,
   "metadata": {},
   "outputs": [],
   "source": [
    "import os \n",
    "import numpy as np\n",
    "import cv2\n",
    "from glob import glob\n",
    "from PIL import Image\n",
    "import imutils\n",
    "import gc"
   ]
  },
  {
   "cell_type": "code",
   "execution_count": null,
   "metadata": {},
   "outputs": [],
   "source": [
    "image_train = np.load('./split_data/image_train.npy')\n",
    "image_val = np.load('./split_data/image_val.npy')"
   ]
  },
  {
   "cell_type": "code",
   "execution_count": null,
   "metadata": {},
   "outputs": [],
   "source": [
    "f_val = open('./split_data/txt_val.txt')\n",
    "txt_val = []\n",
    "for line in f_val:\n",
    "    line = line.strip('\\n')\n",
    "    txt_val.append(line)\n",
    "    \n",
    "f_train = open('./split_data/txt_train.txt')\n",
    "txt_train = []\n",
    "for line in f_train:\n",
    "    line = line.strip('\\n')\n",
    "    txt_train.append(line)"
   ]
  },
  {
   "cell_type": "code",
   "execution_count": null,
   "metadata": {},
   "outputs": [],
   "source": [
    "print(image_train.shape)\n",
    "print(image_val.shape)"
   ]
  },
  {
   "cell_type": "code",
   "execution_count": null,
   "metadata": {},
   "outputs": [],
   "source": [
    "print(len(txt_train))\n",
    "print(len(txt_val))"
   ]
  },
  {
   "cell_type": "code",
   "execution_count": null,
   "metadata": {},
   "outputs": [],
   "source": []
  },
  {
   "cell_type": "code",
   "execution_count": null,
   "metadata": {},
   "outputs": [],
   "source": []
  }
 ],
 "metadata": {
  "kernelspec": {
   "display_name": "Python 3",
   "language": "python",
   "name": "python3"
  },
  "language_info": {
   "codemirror_mode": {
    "name": "ipython",
    "version": 3
   },
   "file_extension": ".py",
   "mimetype": "text/x-python",
   "name": "python",
   "nbconvert_exporter": "python",
   "pygments_lexer": "ipython3",
   "version": "3.7.3"
  }
 },
 "nbformat": 4,
 "nbformat_minor": 2
}
