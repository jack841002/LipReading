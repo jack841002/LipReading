{
 "cells": [
  {
   "cell_type": "code",
   "execution_count": null,
   "metadata": {},
   "outputs": [],
   "source": [
    "from moviepy.video.io.VideoFileClip import VideoFileClip\n",
    "import os\n",
    "import shutil\n",
    "from os import listdir\n",
    "from os.path import isfile, isdir, join"
   ]
  },
  {
   "cell_type": "code",
   "execution_count": null,
   "metadata": {},
   "outputs": [],
   "source": [
    "input_video = './s100/videoplayback.mp4'                        # change\n",
    "output_video_path = './s100/split_video/'                       # change"
   ]
  },
  {
   "cell_type": "code",
   "execution_count": null,
   "metadata": {},
   "outputs": [],
   "source": [
    "f = open(r'./s100/align.txt', encoding='utf-8')                 # change\n",
    "file_txt = []\n",
    "for line in f:\n",
    "    line = line.strip('\\n')\n",
    "    file_txt.append(line)\n",
    "f.close\n",
    "file_txt = file_txt[4:]"
   ]
  },
  {
   "cell_type": "code",
   "execution_count": null,
   "metadata": {},
   "outputs": [],
   "source": [
    "line_list = []\n",
    "for index in range(int(len(file_txt)/4)):\n",
    "    line_list.append(file_txt[index*4:index*4+4])"
   ]
  },
  {
   "cell_type": "code",
   "execution_count": null,
   "metadata": {},
   "outputs": [],
   "source": [
    "index = 1\n",
    "path_txt = \"./s100/text/\"                                       # change\n",
    "path_video = \"./s100/split_video/\"                              # change\n",
    "for line in line_list:\n",
    "    if line[2] != ' ' and line[2] != \"\":\n",
    "        path = path_txt + str(index) + \".txt\"\n",
    "        fw = open(path, \"w\", encoding='utf-8')\n",
    "        fw.write(line[2])\n",
    "        fw.close()\n",
    "        \n",
    "        time = line[1].split(\" --> \")\n",
    "        # t0\n",
    "        temp0 = time[0].split(\":\")\n",
    "        t0 = int(temp0[0])*3600 + int(temp0[1])*60 + float(temp0[2].replace(\",\", \".\"))\n",
    "        # t1\n",
    "        temp1 = time[1].split(\":\")\n",
    "        t1 = int(temp1[0])*3600 + int(temp1[1])*60 + float(temp1[2].replace(\",\", \".\"))\n",
    "        \n",
    "        with VideoFileClip(input_video) as video:\n",
    "            video_clip = video.subclip(t0, t1)\n",
    "            output_video = output_video_path + str(index) + \".mp4\"\n",
    "            video_clip.write_videofile(output_video, audio_codec='aac')\n",
    "            \n",
    "        index = index + 1"
   ]
  },
  {
   "cell_type": "code",
   "execution_count": null,
   "metadata": {},
   "outputs": [],
   "source": [
    "---------------------------------------------------------------------------------------------------------------------"
   ]
  },
  {
   "cell_type": "code",
   "execution_count": null,
   "metadata": {},
   "outputs": [],
   "source": [
    "f = open('./s22/text/1.txt', 'r', encoding='utf-8')\n",
    "print(f.read())"
   ]
  },
  {
   "cell_type": "code",
   "execution_count": null,
   "metadata": {},
   "outputs": [],
   "source": []
  }
 ],
 "metadata": {
  "kernelspec": {
   "display_name": "Python 3",
   "language": "python",
   "name": "python3"
  },
  "language_info": {
   "codemirror_mode": {
    "name": "ipython",
    "version": 3
   },
   "file_extension": ".py",
   "mimetype": "text/x-python",
   "name": "python",
   "nbconvert_exporter": "python",
   "pygments_lexer": "ipython3",
   "version": "3.7.3"
  }
 },
 "nbformat": 4,
 "nbformat_minor": 2
}
