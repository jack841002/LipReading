{
 "cells": [
  {
   "cell_type": "code",
   "execution_count": null,
   "metadata": {},
   "outputs": [],
   "source": [
    "import dlib\n",
    "import cv2\n",
    "import imutils\n",
    "from imutils.face_utils import *\n",
    "import matplotlib.pyplot as plt # plt 用於顯示圖片\n",
    "import matplotlib.image as mpimg # mpimg 用於讀取圖片\n",
    "import numpy as np\n",
    "import os\n",
    "import shutil\n",
    "from os import listdir\n",
    "from os.path import isfile, isdir, join"
   ]
  },
  {
   "cell_type": "code",
   "execution_count": null,
   "metadata": {},
   "outputs": [],
   "source": [
    "# 取得預設的臉部偵測器\n",
    "detector = dlib.get_frontal_face_detector()\n",
    "# 根據shape_predictor方法載入68個特徵點模型，此方法為人臉表情識別的偵測器\n",
    "landmark_predictor = dlib.shape_predictor('shape_predictor_68_face_landmarks.dat') "
   ]
  },
  {
   "cell_type": "code",
   "execution_count": null,
   "metadata": {},
   "outputs": [],
   "source": [
    "target_path = \"./s12/Lip_image/\""
   ]
  },
  {
   "cell_type": "code",
   "execution_count": null,
   "metadata": {},
   "outputs": [],
   "source": [
    "# 指定要列出所有檔案的目錄\n",
    "original_path = \"./s12/image/\"\n",
    "\n",
    "# 取得所有檔案名稱\n",
    "folder_files = listdir(original_path)      "
   ]
  },
  {
   "cell_type": "code",
   "execution_count": null,
   "metadata": {},
   "outputs": [],
   "source": [
    "for a in range(12, 13, 1):\n",
    "    print(\"----------------\"+str(a)+\"----------------\")\n",
    "    global target_path,original_path\n",
    "    \n",
    "    target_path = target_path.replace(target_path.split(\"/\")[1], \"s\"+str(a))\n",
    "\n",
    "    original_path = original_path.replace(original_path.split(\"/\")[1], \"s\"+str(a))\n",
    "    folder_files = listdir(original_path)\n",
    "    \n",
    "    # 主要的code\n",
    "    for folder in folder_files:\n",
    "        files_path = original_path + folder + \"/\"         # \"./image/bbaf2n/\"\n",
    "\n",
    "        tar_path = target_path + folder                   # \"./Lip_image/bbaf2n\"\n",
    "        # 如果指定目錄不存在就建立目錄\n",
    "        if not os.path.isdir(tar_path):\n",
    "            os.mkdir(tar_path)\n",
    "\n",
    "        all_files = listdir(files_path)\n",
    "\n",
    "        for files in all_files:\n",
    "            file = files_path + files                     # \"./image/bbaf2n/001.jpg\"\n",
    "\n",
    "            img = cv2.imread(file) \n",
    "            face_rects = detector(img, 1)\n",
    "\n",
    "            # 取出偵測的結果\n",
    "            for i, d in enumerate(face_rects):\n",
    "                x1 = d.left()\n",
    "                y1 = d.top()\n",
    "                x2 = d.right()\n",
    "                y2 = d.bottom()\n",
    "\n",
    "            #     # 繪製出偵測人臉的矩形範圍\n",
    "            #     cv2.rectangle(img, (x1, y1), (x2, y2), ( 0, 255, 0), 4, cv2. LINE_AA) \n",
    "\n",
    "            #     # 給68特徵點辨識取得一個轉換顏色的frame\n",
    "            #     landmarks_frame = cv2.cvtColor(img, cv2. COLOR_BGR2RGB) \n",
    "\n",
    "                # 找出特徵點位置  # 根據此座標範圍讀取臉部特徵點\n",
    "                shape = landmark_predictor(img, d) \n",
    "\n",
    "\n",
    "                # 將特徵點轉為numpy (68,2)\n",
    "                shape = shape_to_np(shape)\n",
    "            #     print(shape)\n",
    "\n",
    "                # loop over the face parts individually \n",
    "                for(name, (i,j)) in FACIAL_LANDMARKS_IDXS.items(): \n",
    "\n",
    "                    if i==48 and j==68:\n",
    "                        # clone the original image so we can draw on it, then \n",
    "                        # display the name of the face part on the image \n",
    "                        clone = img.copy() \n",
    "\n",
    "                        cv2.putText(clone, name, (10,30), cv2.FONT_HERSHEY_SIMPLEX, 0.7, (0,0,255), 2) \n",
    "\n",
    "                        # loop over the subset of facial landmarks, drawing the \n",
    "                        # specific face part \n",
    "                        for (x, y) in shape[i:j]: \n",
    "                            cv2.circle(clone, (x , y), 1, (0, 0, 255), -1) \n",
    "\n",
    "                        # extract the ROI of the face region as a separate image \n",
    "                        # x，y是矩阵左上点的坐标，w，h是矩阵的宽和高\n",
    "                        (x, y, w, h) = cv2.boundingRect(np.array([shape[i:j]])) \n",
    "                        y = y-10\n",
    "                        x = x-10\n",
    "            #             print(x, y, w, h)\n",
    "                        roi = img[y : y + h + 20, x: x + w + 20]\n",
    "                        roi = imutils.resize(roi, width = 100, inter = cv2.INTER_CUBIC) \n",
    "\n",
    "    #                     # 讓視窗可以自由縮放大小\n",
    "    #                     cv2.namedWindow('Image', cv2.WINDOW_NORMAL)\n",
    "\n",
    "                        write_location = tar_path + \"/\" + files    # \"./Lip_image/bbaf2n/001.jpg\"\n",
    "                        # 寫入圖檔\n",
    "                        cv2.imwrite(write_location, roi)\n"
   ]
  },
  {
   "cell_type": "code",
   "execution_count": null,
   "metadata": {},
   "outputs": [],
   "source": [
    "--------------------------------------------------------------------------------------------------------------------"
   ]
  },
  {
   "cell_type": "code",
   "execution_count": null,
   "metadata": {},
   "outputs": [],
   "source": []
  },
  {
   "cell_type": "code",
   "execution_count": null,
   "metadata": {},
   "outputs": [],
   "source": []
  },
  {
   "cell_type": "code",
   "execution_count": null,
   "metadata": {},
   "outputs": [],
   "source": [
    "import dlib\n",
    "import cv2\n",
    "import imutils\n",
    "from imutils.face_utils import *\n",
    "import matplotlib.pyplot as plt # plt 用於顯示圖片\n",
    "import matplotlib.image as mpimg # mpimg 用於讀取圖片\n",
    "import numpy as np\n",
    "import os\n",
    "import shutil\n",
    "from os import listdir\n",
    "from os.path import isfile, isdir, join"
   ]
  },
  {
   "cell_type": "code",
   "execution_count": null,
   "metadata": {},
   "outputs": [],
   "source": [
    "# 取得預設的臉部偵測器\n",
    "detector = dlib.get_frontal_face_detector()\n",
    "# 根據shape_predictor方法載入68個特徵點模型，此方法為人臉表情識別的偵測器\n",
    "landmark_predictor = dlib.shape_predictor('shape_predictor_68_face_landmarks.dat') "
   ]
  },
  {
   "cell_type": "code",
   "execution_count": null,
   "metadata": {},
   "outputs": [],
   "source": [
    "img = cv2.imread('./s12/image/20200326_204923/004.jpg') \n",
    "face_rects = detector(img, 1)"
   ]
  },
  {
   "cell_type": "code",
   "execution_count": null,
   "metadata": {},
   "outputs": [],
   "source": [
    "face_rects"
   ]
  },
  {
   "cell_type": "code",
   "execution_count": null,
   "metadata": {},
   "outputs": [],
   "source": [
    "# 取出偵測的結果\n",
    "for i, d in enumerate(face_rects):\n",
    "    x1 = d.left()\n",
    "    y1 = d.top()\n",
    "    x2 = d.right()\n",
    "    y2 = d.bottom()\n",
    "    \n",
    "#     # 繪製出偵測人臉的矩形範圍\n",
    "#     cv2.rectangle(img, (x1, y1), (x2, y2), ( 0, 255, 0), 4, cv2. LINE_AA) \n",
    "    \n",
    "#     # 給68特徵點辨識取得一個轉換顏色的frame\n",
    "#     landmarks_frame = cv2.cvtColor(img, cv2. COLOR_BGR2RGB) \n",
    "\n",
    "    # 找出特徵點位置  # 根據此座標範圍讀取臉部特徵點\n",
    "    shape = landmark_predictor(img, d) \n",
    "    \n",
    "    \n",
    "    # 將特徵點轉為numpy (68,2)\n",
    "    shape = shape_to_np(shape)\n",
    "    print(shape)\n",
    "    \n",
    "    # loop over the face parts individually \n",
    "    for(name, (i,j)) in FACIAL_LANDMARKS_IDXS.items(): \n",
    "        \n",
    "        if i==48 and j==68:\n",
    "            # clone the original image so we can draw on it, then \n",
    "            # display the name of the face part on the image \n",
    "            clone = img.copy() \n",
    "\n",
    "            cv2.putText(clone, name, (10,30), cv2.FONT_HERSHEY_SIMPLEX, 0.7, (0,0,255), 2) \n",
    "\n",
    "            # loop over the subset of facial landmarks, drawing the \n",
    "            # specific face part \n",
    "            for (x, y) in shape[i:j]: \n",
    "                cv2.circle(clone, (x , y), 1, (0, 0, 255), -1) \n",
    "\n",
    "            # extract the ROI of the face region as a separate image \n",
    "            # x，y是矩阵左上点的坐标，w，h是矩阵的宽和高\n",
    "            (x, y, w, h) = cv2.boundingRect(np.array([shape[i:j]])) \n",
    "            y = y - 10\n",
    "            x = x - 10\n",
    "#             print(x, y, w, h)\n",
    "            roi = img[y : y + h + 20, x: x + w + 20]\n",
    "            roi = imutils.resize(roi, width = 100, inter = cv2.INTER_CUBIC) \n",
    "        \n",
    "            # 讓視窗可以自由縮放大小\n",
    "            cv2.namedWindow('Image', cv2.WINDOW_NORMAL)\n",
    "\n",
    "            # 寫入圖檔\n",
    "#             cv2.imwrite('./Lip_image_eng/output.jpg', roi)\n",
    "        \n",
    "            # show the particular face part \n",
    "            cv2.imshow(\"ROI\", roi) \n",
    "            cv2.imshow(\"Image\", clone) \n",
    "            cv2.waitKey(0)\n",
    "            cv2.destroyAllWindows()\n",
    "            \n",
    "#             cv2.imwrite('./s1/Lip_image/001.jpg', roi)\n",
    " \n",
    "    # visualize all facial landmarks with a transparent overlay \n",
    "#     output = visualize_facial_landmarks(img, shape) \n",
    "#     cv2.imshow(\"Image\", output) \n",
    "#     cv2.waitKey(0)\n",
    "    \n",
    "    \n",
    "#     # 繪製68個特徵點  \n",
    "#     for i in range(68):\n",
    "#         cv2.circle(img,(shape.part(i).x,shape.part(i).y), 3,(0, 0, 255), 2)\n",
    "# #         cv2.putText(img, str(i),(shape.part(i).x,shape.part(i).y),cv2.FONT_HERSHEY_COMPLEX, 0.5,(255, 0, 0), 1)\n",
    "        \n",
    "# # # 輸出到畫面\n",
    "# cv2.namedWindow(\"Image\") \n",
    "# cv2.imshow( \"Face Detection\", img) \n",
    "# cv2.waitKey(0)\n",
    "# cv2.destroyAllWindows()\n",
    "# # plt.imshow(img) # 顯示圖片"
   ]
  },
  {
   "cell_type": "code",
   "execution_count": null,
   "metadata": {},
   "outputs": [],
   "source": []
  },
  {
   "cell_type": "code",
   "execution_count": null,
   "metadata": {},
   "outputs": [],
   "source": []
  },
  {
   "cell_type": "code",
   "execution_count": null,
   "metadata": {},
   "outputs": [],
   "source": []
  },
  {
   "cell_type": "code",
   "execution_count": null,
   "metadata": {},
   "outputs": [],
   "source": []
  },
  {
   "cell_type": "code",
   "execution_count": null,
   "metadata": {},
   "outputs": [],
   "source": [
    " "
   ]
  },
  {
   "cell_type": "code",
   "execution_count": null,
   "metadata": {},
   "outputs": [],
   "source": []
  },
  {
   "cell_type": "code",
   "execution_count": null,
   "metadata": {},
   "outputs": [],
   "source": []
  }
 ],
 "metadata": {
  "kernelspec": {
   "display_name": "Python 3",
   "language": "python",
   "name": "python3"
  },
  "language_info": {
   "codemirror_mode": {
    "name": "ipython",
    "version": 3
   },
   "file_extension": ".py",
   "mimetype": "text/x-python",
   "name": "python",
   "nbconvert_exporter": "python",
   "pygments_lexer": "ipython3",
   "version": "3.7.3"
  }
 },
 "nbformat": 4,
 "nbformat_minor": 2
}
