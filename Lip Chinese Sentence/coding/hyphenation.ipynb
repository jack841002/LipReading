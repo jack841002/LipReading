{
 "cells": [
  {
   "cell_type": "code",
   "execution_count": null,
   "metadata": {},
   "outputs": [],
   "source": [
    "import os \n",
    "import numpy as np\n",
    "from keras.preprocessing.text import Tokenizer\n",
    "import jieba\n",
    "import pkuseg"
   ]
  },
  {
   "cell_type": "code",
   "execution_count": null,
   "metadata": {},
   "outputs": [],
   "source": [
    "f_val = open('./split_data/txt_val.txt')\n",
    "txt_val = []\n",
    "for line in f_val:\n",
    "    line = line.strip('\\n')\n",
    "    txt_val.append(line)\n",
    "    \n",
    "f_train = open('./split_data/txt_train.txt')\n",
    "txt_train = []\n",
    "for line in f_train:\n",
    "    line = line.strip('\\n')\n",
    "    txt_train.append(line)"
   ]
  },
  {
   "cell_type": "code",
   "execution_count": null,
   "metadata": {},
   "outputs": [],
   "source": [
    "# seg = pkuseg.pkuseg() #以默认配置加载模型\n",
    "# text = seg.cut('詞彙的個數')\n",
    "# print(text)"
   ]
  },
  {
   "cell_type": "code",
   "execution_count": null,
   "metadata": {},
   "outputs": [],
   "source": [
    "# jieba.cut(\"今天台北的天氣不錯\", cut_all = True)   # 全模式:將句子中所有可能成詞的詞都掃描出來\n",
    "# jieba.cut(\"今天台北的天氣不錯\", cut_all = False)  # 精確模式:將句子精確地分開，適合文本分析\n",
    "# jieba.cut_for_search(\"今天台北的天氣不錯\")        # 在精確模式的基礎上，對長詞繼續細分，提高recall，適合搜尋引擎斷詞"
   ]
  },
  {
   "cell_type": "code",
   "execution_count": null,
   "metadata": {},
   "outputs": [],
   "source": [
    "words = []\n",
    "seg = pkuseg.pkuseg() #以默认配置加载模型\n",
    "for txt in txt_val:\n",
    "#     seg_list = jieba.cut(txt, cut_all = False)\n",
    "    seg_list = seg.cut(txt)\n",
    "    for word in seg_list:\n",
    "        if word not in words:\n",
    "            words.append(word)\n",
    "            \n",
    "for txt in txt_train:\n",
    "#     seg_list = jieba.cut(txt, cut_all = False)\n",
    "    seg_list = seg.cut(txt)\n",
    "    for word in seg_list:\n",
    "        if word not in words:\n",
    "            words.append(word)\n",
    "\n",
    "print(len(words))"
   ]
  },
  {
   "cell_type": "code",
   "execution_count": null,
   "metadata": {},
   "outputs": [],
   "source": [
    "type(words)"
   ]
  },
  {
   "cell_type": "code",
   "execution_count": null,
   "metadata": {},
   "outputs": [],
   "source": [
    "# save txt file\n",
    "with open('./split_data/words.txt', 'w') as words_w:\n",
    "    for txt in words:\n",
    "        words_w.write(txt)\n",
    "        words_w.write('\\n')"
   ]
  },
  {
   "cell_type": "code",
   "execution_count": null,
   "metadata": {},
   "outputs": [],
   "source": []
  },
  {
   "cell_type": "code",
   "execution_count": null,
   "metadata": {},
   "outputs": [],
   "source": []
  }
 ],
 "metadata": {
  "kernelspec": {
   "display_name": "Python 3",
   "language": "python",
   "name": "python3"
  },
  "language_info": {
   "codemirror_mode": {
    "name": "ipython",
    "version": 3
   },
   "file_extension": ".py",
   "mimetype": "text/x-python",
   "name": "python",
   "nbconvert_exporter": "python",
   "pygments_lexer": "ipython3",
   "version": "3.7.3"
  }
 },
 "nbformat": 4,
 "nbformat_minor": 2
}
