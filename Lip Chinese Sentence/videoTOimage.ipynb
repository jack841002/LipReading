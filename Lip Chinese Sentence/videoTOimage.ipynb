{
 "cells": [
  {
   "cell_type": "code",
   "execution_count": null,
   "metadata": {},
   "outputs": [],
   "source": [
    "import cv2\n",
    "import os\n",
    "import shutil\n",
    "from os import listdir\n",
    "from os.path import isfile, isdir, join"
   ]
  },
  {
   "cell_type": "code",
   "execution_count": null,
   "metadata": {},
   "outputs": [],
   "source": [
    "# 全局变量\n",
    "VIDEO_PATH = './s21/split_video/'             # 视频地址\n",
    "EXTRACT_FOLDER = './s21/image/'               # 存放帧图片的位置\n",
    "EXTRACT_FREQUENCY = 1               # 帧提取频率"
   ]
  },
  {
   "cell_type": "code",
   "execution_count": null,
   "metadata": {},
   "outputs": [],
   "source": [
    "# 指定要列出所有檔案的目錄\n",
    "mypath = \"./s21/split_video\"                  # 指定要列出所有檔案的目錄\n",
    "\n",
    "# 取得所有檔案名稱\n",
    "files = listdir(mypath)"
   ]
  },
  {
   "cell_type": "code",
   "execution_count": null,
   "metadata": {},
   "outputs": [],
   "source": [
    "# files"
   ]
  },
  {
   "cell_type": "code",
   "execution_count": null,
   "metadata": {},
   "outputs": [],
   "source": [
    "def extract_frames(video_path, dst_folder, index):\n",
    "    # 主操作\n",
    "    video = cv2.VideoCapture()\n",
    "    if not video.open(video_path):\n",
    "        print(\"can not open the video\")\n",
    "        exit(1)\n",
    "    count = 1\n",
    "    while True:\n",
    "        _, frame = video.read()\n",
    "        if frame is None:\n",
    "            break\n",
    "        if count % EXTRACT_FREQUENCY == 0:\n",
    "            save_path = \"{}/{:>03d}.jpg\".format(dst_folder, index)\n",
    "            cv2.imwrite(save_path, frame)\n",
    "            index += 1\n",
    "        count += 1\n",
    "    video.release()\n",
    "    # 打印出所提取帧的总数\n",
    "    print(\"Totally save {:d} pics\".format(index-1))"
   ]
  },
  {
   "cell_type": "code",
   "execution_count": null,
   "metadata": {},
   "outputs": [],
   "source": [
    "def main():\n",
    "    \n",
    "    for a in range(21, 22, 1):\n",
    "        print(\"----------------\"+str(a)+\"----------------\")\n",
    "        global VIDEO_PATH, EXTRACT_FOLDER, mypath\n",
    "        VIDEO_PATH = VIDEO_PATH.replace(VIDEO_PATH.split(\"/\")[1], \"s\"+str(a))\n",
    "        EXTRACT_FOLDER = EXTRACT_FOLDER.replace(EXTRACT_FOLDER.split(\"/\")[1], \"s\"+str(a))\n",
    "\n",
    "        mypath = mypath.replace(mypath.split(\"/\")[1], \"s\"+str(a))\n",
    "        files = listdir(mypath)\n",
    "    \n",
    "        # 主要的code\n",
    "        for fname in files:\n",
    "\n",
    "            VIDEO_PATH1 = VIDEO_PATH + fname\n",
    "\n",
    "            EXTRACT_FOLDER1 = EXTRACT_FOLDER + fname.split(\".\")[0]\n",
    "\n",
    "            # 递归删除之前存放帧图片的文件夹，并新建一个\n",
    "            try:\n",
    "                shutil.rmtree(EXTRACT_FOLDER1)\n",
    "            except OSError:\n",
    "                pass\n",
    "\n",
    "            os.mkdir(EXTRACT_FOLDER1)\n",
    "            # 抽取帧图片，并保存到指定路径\n",
    "            extract_frames(VIDEO_PATH1, EXTRACT_FOLDER1, 1)\n",
    "            "
   ]
  },
  {
   "cell_type": "code",
   "execution_count": null,
   "metadata": {},
   "outputs": [],
   "source": [
    "if __name__ == '__main__':\n",
    "    main()"
   ]
  },
  {
   "cell_type": "code",
   "execution_count": null,
   "metadata": {},
   "outputs": [],
   "source": []
  },
  {
   "cell_type": "code",
   "execution_count": null,
   "metadata": {},
   "outputs": [],
   "source": []
  }
 ],
 "metadata": {
  "kernelspec": {
   "display_name": "Python 3",
   "language": "python",
   "name": "python3"
  },
  "language_info": {
   "codemirror_mode": {
    "name": "ipython",
    "version": 3
   },
   "file_extension": ".py",
   "mimetype": "text/x-python",
   "name": "python",
   "nbconvert_exporter": "python",
   "pygments_lexer": "ipython3",
   "version": "3.7.3"
  }
 },
 "nbformat": 4,
 "nbformat_minor": 2
}
