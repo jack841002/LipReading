{
 "cells": [
  {
   "cell_type": "code",
   "execution_count": null,
   "metadata": {},
   "outputs": [],
   "source": [
    "import matplotlib.pyplot as plt # plt 用於顯示圖片\n",
    "import matplotlib.image as mpimg # mpimg 用於讀取圖片\n",
    "import numpy as np\n",
    "import cv2"
   ]
  },
  {
   "cell_type": "code",
   "execution_count": null,
   "metadata": {},
   "outputs": [],
   "source": [
    "from skimage import data, exposure, img_as_float"
   ]
  },
  {
   "cell_type": "markdown",
   "metadata": {},
   "source": [
    "# matplitlib"
   ]
  },
  {
   "cell_type": "code",
   "execution_count": null,
   "metadata": {},
   "outputs": [],
   "source": [
    "# 讀取和程式碼處於同一目錄下的 001.jpg\n",
    "lena = mpimg.imread('./s1/Lip_image/1/081.jpg') \n",
    "# 此時 lena 就已經是一個 np.array 了，可以對它進行任意處理\n",
    "lena.shape #(512, 512, 3)\n",
    "plt.imshow(lena) # 顯示圖片\n",
    "plt.axis('off') # 不顯示座標軸\n",
    "plt.show()"
   ]
  },
  {
   "cell_type": "code",
   "execution_count": null,
   "metadata": {},
   "outputs": [],
   "source": [
    "# RGB image to gray image\n",
    "def rgb2gray(rgb):\n",
    "    return np.dot(rgb[...,:3], [0.299, 0.587, 0.114])\n",
    "\n",
    "gray = rgb2gray(lena)  \n",
    "# 也可以用 plt.imshow(gray, cmap = plt.get_cmap('gray'))\n",
    "plt.imshow(gray, cmap='Greys_r')\n",
    "plt.axis('off')\n",
    "plt.show()"
   ]
  },
  {
   "cell_type": "code",
   "execution_count": null,
   "metadata": {},
   "outputs": [],
   "source": [
    "# image compression\n",
    "import scipy.misc\n",
    "from scipy import misc\n",
    "\n",
    "lena_new_sz = cv2.resize(lena, (100,100)) # 第二個引數如果是整數，則為百分比，如果是tuple，則為輸出影象的尺寸\n",
    "plt.imshow(lena_new_sz)\n",
    "plt.axis('off')\n",
    "plt.show()"
   ]
  },
  {
   "cell_type": "code",
   "execution_count": null,
   "metadata": {},
   "outputs": [],
   "source": [
    "# # 適用於儲存任何 matplotlib 畫出的影象，相當於一個 screencapture。\n",
    "# plt.imshow(lena_new_sz)\n",
    "# plt.axis('off')\n",
    "# plt.savefig('lena_new_sz.png')"
   ]
  },
  {
   "cell_type": "markdown",
   "metadata": {},
   "source": [
    "# PIL"
   ]
  },
  {
   "cell_type": "code",
   "execution_count": null,
   "metadata": {},
   "outputs": [],
   "source": [
    "# 顯示圖片\n",
    "from PIL import Image\n",
    "im = Image.open(\"./s1/Lip_image/20200417_151115/042.jpg\")\n",
    "im.show()"
   ]
  },
  {
   "cell_type": "code",
   "execution_count": null,
   "metadata": {},
   "outputs": [],
   "source": [
    "# 將 PIL Image 圖片轉換為 numpy 陣列\n",
    "im_array = np.array(im)\n",
    "im_array.shape"
   ]
  },
  {
   "cell_type": "code",
   "execution_count": null,
   "metadata": {},
   "outputs": [],
   "source": [
    "img = Image.fromarray(im_array, 'RGB')\n",
    "img.show()"
   ]
  },
  {
   "cell_type": "code",
   "execution_count": null,
   "metadata": {},
   "outputs": [],
   "source": [
    "# # 直接呼叫 Image 類的 save 方法\n",
    "# from PIL import Image\n",
    "# I = Image.open('lena.png')\n",
    "# I.save('new_lena.png')"
   ]
  },
  {
   "cell_type": "code",
   "execution_count": null,
   "metadata": {},
   "outputs": [],
   "source": [
    "# 將 numpy 陣列轉換為 PIL 圖片\n",
    "import matplotlib.image as mpimg\n",
    "from PIL import Image\n",
    "lena = mpimg.imread('./image_eng/bbaf2n/001.jpg') # 這裡讀入的資料是 float32 型的，範圍是0-1\n",
    "# 此時 lena 就已經是一個 np.array 了，可以對它進行任意處理\n",
    "lena.shape #(512, 512, 3)\n",
    "plt.imshow(lena) # 顯示圖片\n",
    "plt.axis('off') # 不顯示座標軸im = Image.open('./image_eng/bbaf2n/001.jpg')\n",
    "plt.show()\n",
    "# im = Image.fromarray(np.uinit8(lena*255))\n",
    "# im.show()"
   ]
  },
  {
   "cell_type": "code",
   "execution_count": null,
   "metadata": {},
   "outputs": [],
   "source": [
    "# RGB to gray圖\n",
    "from PIL import Image\n",
    "I = Image.open('./image_eng/bbaf2n/001.jpg')\n",
    "I.show()\n",
    "L = I.convert('L')\n",
    "L.show()"
   ]
  },
  {
   "cell_type": "markdown",
   "metadata": {},
   "source": [
    "# CV2"
   ]
  },
  {
   "cell_type": "code",
   "execution_count": null,
   "metadata": {},
   "outputs": [],
   "source": [
    "# 顯示圖片\n",
    "import cv2\n",
    "img = cv2.imread('./s1/Lip_image/1/081.jpg') \n",
    "cv2.namedWindow(\"Image\") \n",
    "cv2.imshow(\"Image\",img)\n",
    "cv2.waitKey (0)\n",
    "cv2.destroyAllWindows()"
   ]
  },
  {
   "cell_type": "code",
   "execution_count": null,
   "metadata": {},
   "outputs": [],
   "source": [
    "#2、固定阈值二值化\n",
    "retval, im_at_fixed = cv2.threshold(img, 100, 255, cv2.THRESH_BINARY) \n",
    "#将阈值设置为50，阈值类型为cv2.THRESH_BINARY，则灰度在大于50的像素其值将设置为255，其它像素设置为0\n",
    "# cv2.axis(\"off\") \n",
    "# cv2.title(\"Fixed Thresholding\")\n",
    "cv2.namedWindow(\"Image\") \n",
    "cv2.imshow(\"Image\", im_at_fixed) \n",
    "cv2.waitKey (0)\n",
    "cv2.destroyAllWindows()"
   ]
  },
  {
   "cell_type": "code",
   "execution_count": null,
   "metadata": {},
   "outputs": [],
   "source": []
  },
  {
   "cell_type": "code",
   "execution_count": null,
   "metadata": {},
   "outputs": [],
   "source": [
    "--------------------------------------------------------------------------------------------------------"
   ]
  },
  {
   "cell_type": "markdown",
   "metadata": {},
   "source": [
    "# 調對比和亮度"
   ]
  },
  {
   "cell_type": "code",
   "execution_count": null,
   "metadata": {},
   "outputs": [],
   "source": [
    "import dlib\n",
    "import cv2\n",
    "import imutils\n",
    "from imutils.face_utils import *\n",
    "import matplotlib.pyplot as plt # plt 用於顯示圖片\n",
    "import matplotlib.image as mpimg # mpimg 用於讀取圖片\n",
    "import numpy as np\n",
    "import os\n",
    "import shutil\n",
    "from os import listdir\n",
    "from os.path import isfile, isdir, join"
   ]
  },
  {
   "cell_type": "code",
   "execution_count": null,
   "metadata": {},
   "outputs": [],
   "source": [
    "target_path = \"./vocabulary/v1/temp/\"\n",
    "original_path = \"./vocabulary/v1/Lip_image/\"\n",
    "\n",
    "# 取得所有檔案名稱\n",
    "folder_files = listdir(original_path)  "
   ]
  },
  {
   "cell_type": "code",
   "execution_count": null,
   "metadata": {},
   "outputs": [],
   "source": [
    "a = 1.4    # 對比度\n",
    "g = 10    # 亮度\n",
    "for folder in folder_files:\n",
    "    files_path = original_path + folder + \"/\"         # \"./image/bbaf2n/\"\n",
    "\n",
    "    tar_path = target_path + folder                   # \"./Lip_image/bbaf2n\"\n",
    "    # 如果指定目錄不存在就建立目錄\n",
    "    if not os.path.isdir(tar_path):\n",
    "        os.mkdir(tar_path)\n",
    "\n",
    "    all_files = listdir(files_path)\n",
    "\n",
    "    for files in all_files:\n",
    "        file = files_path + files                     # \"./image/bbaf2n/001.jpg\"\n",
    "\n",
    "        img = cv2.imread(file) \n",
    "        \n",
    "        h, w, ch = img.shape#获取shape的数值，height和width、通道\n",
    "        #新建全零图片数组src2,将height和width，类型设置为原图片的通道类型(色素全为零，输出为全黑图片)\n",
    "        src2 = np.zeros([h, w, ch], img.dtype)\n",
    "        dst = cv2.addWeighted(img, a, src2, 1-a, g)#addWeighted函数说明如下\n",
    "        \n",
    "        write_location = tar_path + \"/\" + files\n",
    "        cv2.imwrite(write_location, dst)"
   ]
  },
  {
   "cell_type": "code",
   "execution_count": null,
   "metadata": {},
   "outputs": [],
   "source": [
    "def contrast_brightness_image(src1, a, g):\n",
    "    h, w, ch = src1.shape #获取shape的数值，height和width、通道\n",
    " \n",
    "    #新建全零图片数组src2,将height和width，类型设置为原图片的通道类型(色素全为零，输出为全黑图片)\n",
    "    src2 = np.zeros([h, w, ch], src1.dtype)\n",
    "    dst = cv2.addWeighted(src1, a, src2, 1-a, g)#addWeighted函数说明如下\n",
    "    \n",
    "#     cv2.imwrite('./s1/aaa/temp.jpg', dst)\n",
    "    cv2.imshow(\"con-bri-demo\", dst)\n",
    "    cv2.waitKey (0)\n",
    "    cv2.destroyAllWindows()\n",
    "    \n",
    "src = cv2.imread(\"./s1/image/20200417_151115/016.jpg\")\n",
    "contrast_brightness_image(src, 1.4, 10)#第一个1.2为对比度  第二个为亮度数值越大越亮"
   ]
  },
  {
   "cell_type": "code",
   "execution_count": null,
   "metadata": {},
   "outputs": [],
   "source": [
    "--------------------------------------------------------------------------------------------------------"
   ]
  },
  {
   "cell_type": "code",
   "execution_count": null,
   "metadata": {},
   "outputs": [],
   "source": [
    "import dlib\n",
    "import cv2\n",
    "import imutils\n",
    "from imutils.face_utils import *\n",
    "import matplotlib.pyplot as plt # plt 用於顯示圖片\n",
    "import matplotlib.image as mpimg # mpimg 用於讀取圖片\n",
    "import numpy as np\n",
    "import os\n",
    "import shutil\n",
    "from os import listdir\n",
    "from os.path import isfile, isdir, join"
   ]
  },
  {
   "cell_type": "code",
   "execution_count": null,
   "metadata": {},
   "outputs": [],
   "source": [
    "target_path = \"./vocabulary/v1/Lip_image/\"\n",
    "temp_path = \"./vocabulary/v1/temp/\"\n",
    "# 指定要列出所有檔案的目錄\n",
    "original_path = \"./s1/Lip_image/\"\n",
    "\n",
    "# 取得所有檔案名稱\n",
    "folder_files = listdir(original_path)   "
   ]
  },
  {
   "cell_type": "code",
   "execution_count": null,
   "metadata": {},
   "outputs": [],
   "source": [
    "for a in range(13, 21, 1):\n",
    "    print(\"----------------\"+str(a)+\"----------------\")\n",
    "    global target_path,original_path, temp_path\n",
    "    \n",
    "    target_path = target_path.replace(target_path.split(\"/\")[2], \"v\"+str(a))\n",
    "    temp_path = temp_path.replace(temp_path.split(\"/\")[2], \"v\"+str(a))\n",
    "    target_folder = listdir(target_path)\n",
    "    \n",
    "\n",
    "    original_path = original_path.replace(original_path.split(\"/\")[1], \"s\"+str(a))\n",
    "    folder_files = listdir(original_path)\n",
    "    \n",
    "    # 主要的code\n",
    "    for folder in folder_files:\n",
    "        if folder in target_folder:\n",
    "            files_path = original_path + folder + \"/\"         # \"./image/bbaf2n/\"\n",
    "\n",
    "            temp1_path = temp_path + folder                   # \"./Lip_image/bbaf2n\"\n",
    "            print(temp1_path)\n",
    "            # 如果指定目錄不存在就建立目錄\n",
    "            if not os.path.isdir(temp1_path):\n",
    "                os.mkdir(temp1_path)\n",
    "\n",
    "            all_files = listdir(files_path)\n",
    "\n",
    "            for files in all_files:\n",
    "                file = files_path + files                     # \"./image/bbaf2n/001.jpg\"\n",
    "\n",
    "                img = cv2.imread(file) \n",
    "                \n",
    "                write_location = temp1_path + \"/\" + files\n",
    "                cv2.imwrite(write_location, img)"
   ]
  },
  {
   "cell_type": "code",
   "execution_count": null,
   "metadata": {},
   "outputs": [],
   "source": []
  },
  {
   "cell_type": "code",
   "execution_count": null,
   "metadata": {},
   "outputs": [],
   "source": []
  }
 ],
 "metadata": {
  "kernelspec": {
   "display_name": "Python 3",
   "language": "python",
   "name": "python3"
  },
  "language_info": {
   "codemirror_mode": {
    "name": "ipython",
    "version": 3
   },
   "file_extension": ".py",
   "mimetype": "text/x-python",
   "name": "python",
   "nbconvert_exporter": "python",
   "pygments_lexer": "ipython3",
   "version": "3.7.3"
  }
 },
 "nbformat": 4,
 "nbformat_minor": 2
}
