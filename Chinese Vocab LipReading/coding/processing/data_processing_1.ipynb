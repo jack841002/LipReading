{
 "cells": [
  {
   "cell_type": "code",
   "execution_count": null,
   "metadata": {},
   "outputs": [],
   "source": [
    "import os \n",
    "import numpy as np\n",
    "import cv2\n",
    "from glob import glob\n",
    "from PIL import Image\n",
    "import imutils\n",
    "import gc"
   ]
  },
  {
   "cell_type": "code",
   "execution_count": null,
   "metadata": {},
   "outputs": [],
   "source": [
    "maxlen = 0\n",
    "folder_len = 0\n",
    "for a in range(1,21,1):\n",
    "#     print(\"----------------\"+str(a)+\"----------------\")\n",
    "    if a != 3 and a != 6 and a != 7 and a != 19:\n",
    "    \n",
    "        if a == 1:\n",
    "            temp = \"/home/eagleuser/Users/dragon/Chinese_vocab_LipReading/corpus/s1/Lip_image/\"\n",
    "        else:\n",
    "            temp = temp.replace(temp.split(\"/\")[7], \"s\"+str(a))\n",
    "\n",
    "        lists = glob(temp + \"*\")\n",
    "        lists.sort()\n",
    "\n",
    "    #     folder_len = folder_len + len(lists)\n",
    "\n",
    "        for folder_path in lists:\n",
    "            folder = folder_path.split('/')[-1]\n",
    "            lists1 = glob(temp + folder + \"/*\")\n",
    "            lists1.sort()\n",
    "\n",
    "            if len(lists1) <= 120:\n",
    "                folder_len = folder_len + 1\n",
    "                if len(lists1) > maxlen:\n",
    "    #                 print(folder_path + \" \" + str(len(lists1)))\n",
    "                    maxlen = len(lists1)\n",
    "print(maxlen)\n",
    "print(folder_len)"
   ]
  },
  {
   "cell_type": "markdown",
   "metadata": {},
   "source": [
    "# data"
   ]
  },
  {
   "cell_type": "code",
   "execution_count": null,
   "metadata": {},
   "outputs": [],
   "source": [
    "maxlen = 77\n",
    "# image_list = []\n",
    "# txt_list = []\n",
    "temp = \"/home/eagleuser/Users/dragon/Chinese_vocab_LipReading/corpus/s1/Lip_image/\"\n",
    "# temp1 = \"/home/eagleuser/Users/dragon/Chinese_LipReading/corpus/s1/text/\"\n",
    "temp2 = \"/home/eagleuser/Users/dragon/Chinese_vocab_LipReading/corpus/s1/text.txt\"\n",
    "\n",
    "\n",
    "for a in range(1,21,1):\n",
    "    image_list = []\n",
    "    txt_list = []\n",
    "    print(\"----------------\"+str(a)+\"----------------\")\n",
    "    if a != 3 and a != 6 and a != 7 and a != 19:\n",
    "    \n",
    "        if a != 1:\n",
    "            temp = temp.replace(temp.split(\"/\")[7], \"s\"+str(a))\n",
    "    #         temp1 = temp1.replace(temp1.split(\"/\")[7], \"s\"+str(a))\n",
    "            temp2 = temp2.replace(temp2.split(\"/\")[7], \"s\"+str(a))\n",
    "\n",
    "        lists = glob(temp + \"*\")\n",
    "        lists.sort()\n",
    "\n",
    "        for folder_path in lists:\n",
    "            folder = folder_path.split('/')[-1]\n",
    "            lists1 = glob(temp + folder + \"/*\")\n",
    "            lists1.sort()\n",
    "\n",
    "            if len(lists1) <= maxlen:\n",
    "    #             f = open(temp1 + folder + \".txt\")\n",
    "    #             for line in f:\n",
    "    #                 txt_list.append(line)\n",
    "\n",
    "                for img_path in lists1:        \n",
    "                    image = Image.open(img_path)\n",
    "\n",
    "                    image = image.resize((100,50), Image.BILINEAR) \n",
    "                    np_image = np.array(image)\n",
    "                    image_list.append(np_image)\n",
    "\n",
    "                if len(lists1) != maxlen:\n",
    "                    zeros = np.zeros((maxlen-len(lists1),50,100,3)).astype(int)\n",
    "                    image_list = np.append(image_list, zeros, axis=0)\n",
    "    #                 image_list = np.concatenate((image_list, zeros), axis=0)\n",
    "                    image_list = image_list.tolist()\n",
    "\n",
    "        f = open(temp2, encoding='UTF-8-sig')\n",
    "        for line in f:\n",
    "            line = line.strip('\\n')\n",
    "            txt_list.append(line)\n",
    "\n",
    "        # save npy file\n",
    "        print(\"np\", str(a), np.array(image_list).shape, sep = ' ')    # (300, 50, 100, 3)\n",
    "        npsave_pos = \"./np_data/\"\n",
    "        np.save(npsave_pos + str(a) , np.array(image_list))\n",
    "\n",
    "        # save txt file\n",
    "        print(\"txt\",str(a), len(txt_list), sep = ' ')       # 3\n",
    "        txtsave_pos = \"./txt_data/\"\n",
    "        with open(txtsave_pos + str(a) + \".txt\" , 'w') as txt_data:\n",
    "            for txt in txt_list:\n",
    "                txt_data.write(txt)\n",
    "                txt_data.write('\\n')"
   ]
  },
  {
   "cell_type": "code",
   "execution_count": null,
   "metadata": {},
   "outputs": [],
   "source": [
    "-----------------------------------------------------------------------------------------------------------"
   ]
  },
  {
   "cell_type": "code",
   "execution_count": null,
   "metadata": {},
   "outputs": [],
   "source": [
    "# image_list = np.array(image_list)\n",
    "# print(image_list.shape)    # (300, 50, 100, 3)\n",
    "# print(len(txt_list))       # 3\n",
    "# image_list = image_list.reshape(( int(len(image_list)/maxlen) , maxlen, 50, 100, 3))\n",
    "# print(image_list.shape)    # (3, 100, 50, 100, 3)"
   ]
  },
  {
   "cell_type": "code",
   "execution_count": null,
   "metadata": {},
   "outputs": [],
   "source": [
    "# # save npy file\n",
    "# np.save('./data/image_data', image_list)\n",
    "\n",
    "# # save txt file\n",
    "# with open('./data/txt_data.txt', 'w') as txt_data:\n",
    "#     for txt in txt_list:\n",
    "#         txt_data.write(txt)\n",
    "#         txt_data.write('\\n')"
   ]
  },
  {
   "cell_type": "code",
   "execution_count": null,
   "metadata": {},
   "outputs": [],
   "source": []
  },
  {
   "cell_type": "code",
   "execution_count": null,
   "metadata": {},
   "outputs": [],
   "source": []
  }
 ],
 "metadata": {
  "kernelspec": {
   "display_name": "Python 3",
   "language": "python",
   "name": "python3"
  },
  "language_info": {
   "codemirror_mode": {
    "name": "ipython",
    "version": 3
   },
   "file_extension": ".py",
   "mimetype": "text/x-python",
   "name": "python",
   "nbconvert_exporter": "python",
   "pygments_lexer": "ipython3",
   "version": "3.7.3"
  }
 },
 "nbformat": 4,
 "nbformat_minor": 2
}
