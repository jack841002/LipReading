{
 "cells": [
  {
   "cell_type": "code",
   "execution_count": null,
   "metadata": {},
   "outputs": [],
   "source": [
    "import os \n",
    "import numpy as np\n",
    "import cv2\n",
    "from glob import glob\n",
    "from PIL import Image\n",
    "import imutils\n",
    "import gc"
   ]
  },
  {
   "cell_type": "markdown",
   "metadata": {},
   "source": [
    "# merge 20 image (npy)"
   ]
  },
  {
   "cell_type": "code",
   "execution_count": null,
   "metadata": {},
   "outputs": [],
   "source": [
    "image_list_s1 = np.load('./np_data/1.npy')\n",
    "image_list_s2 = np.load('./np_data/2.npy')\n",
    "# image_list_s3 = np.load('./np_data/3.npy')\n",
    "image_list_s4 = np.load('./np_data/4.npy')\n",
    "image_list_s5 = np.load('./np_data/5.npy')\n",
    "# image_list_s6 = np.load('./np_data/6.npy')\n",
    "# image_list_s7 = np.load('./np_data/7.npy')\n",
    "image_list_s8 = np.load('./np_data/8.npy')\n",
    "image_list_s9 = np.load('./np_data/9.npy')\n",
    "image_list_s10 = np.load('./np_data/10.npy')\n",
    "image_list_s11 = np.load('./np_data/11.npy')\n",
    "image_list_s12 = np.load('./np_data/12.npy')\n",
    "image_list_s13 = np.load('./np_data/13.npy')\n",
    "image_list_s14 = np.load('./np_data/14.npy')\n",
    "image_list_s15 = np.load('./np_data/15.npy')\n",
    "image_list_s16 = np.load('./np_data/16.npy')\n",
    "image_list_s17 = np.load('./np_data/17.npy')\n",
    "image_list_s18 = np.load('./np_data/18.npy')\n",
    "# image_list_s19 = np.load('./np_data/19.npy')\n",
    "image_list_s20 = np.load('./np_data/20.npy')\n",
    "# image_list_val = np.load('./np_data/12.npy')"
   ]
  },
  {
   "cell_type": "code",
   "execution_count": null,
   "metadata": {},
   "outputs": [],
   "source": [
    "image_list = np.concatenate((image_list_s1, image_list_s2, image_list_s4,image_list_s5, image_list_s8,\n",
    "                             image_list_s9, image_list_s10,\n",
    "                             image_list_s11, image_list_s13, image_list_s14, image_list_s15,\n",
    "                             image_list_s17, image_list_s18, image_list_s20\n",
    "                            ), axis=0)\n",
    "del image_list_s1, image_list_s2, image_list_s4, image_list_s5, image_list_s8, image_list_s9\n",
    "del image_list_s10,image_list_s11, image_list_s13, image_list_s14\n",
    "del image_list_s15,image_list_s17,image_list_s18, image_list_s20\n",
    "\n",
    "image_list_val = np.concatenate((image_list_s12, image_list_s16), axis=0)\n",
    "del image_list_s12, image_list_s16\n",
    "\n",
    "gc.collect()"
   ]
  },
  {
   "cell_type": "code",
   "execution_count": null,
   "metadata": {},
   "outputs": [],
   "source": [
    "print(image_list.shape)"
   ]
  },
  {
   "cell_type": "code",
   "execution_count": null,
   "metadata": {},
   "outputs": [],
   "source": [
    "maxlen = 77\n",
    "image_list = image_list.reshape(( int(len(image_list)/maxlen) , maxlen, 50, 100, 3))\n",
    "print(image_list.shape)\n",
    "image_list_val = image_list_val.reshape(( int(len(image_list_val)/maxlen) , maxlen, 50, 100, 3))\n",
    "print(image_list_val.shape)"
   ]
  },
  {
   "cell_type": "markdown",
   "metadata": {},
   "source": [
    "# merge 20 cordinate (npy)"
   ]
  },
  {
   "cell_type": "code",
   "execution_count": null,
   "metadata": {},
   "outputs": [],
   "source": [
    "image_list_s1 = np.load('./np_data/cordinate/1.npy')\n",
    "image_list_s2 = np.load('./np_data/cordinate/2.npy')\n",
    "# image_list_s3 = np.load('./np_data/3.npy')\n",
    "image_list_s4 = np.load('./np_data/cordinate/4.npy')\n",
    "image_list_s5 = np.load('./np_data/cordinate/5.npy')\n",
    "# image_list_s6 = np.load('./np_data/6.npy')\n",
    "# image_list_s7 = np.load('./np_data/7.npy')\n",
    "image_list_s8 = np.load('./np_data/cordinate/8.npy')\n",
    "image_list_s9 = np.load('./np_data/cordinate/9.npy')\n",
    "image_list_s10 = np.load('./np_data/cordinate/10.npy')\n",
    "image_list_s11 = np.load('./np_data/cordinate/11.npy')\n",
    "image_list_s12 = np.load('./np_data/cordinate/12.npy')\n",
    "image_list_s13 = np.load('./np_data/cordinate/13.npy')\n",
    "image_list_s14 = np.load('./np_data/cordinate/14.npy')\n",
    "image_list_s15 = np.load('./np_data/cordinate/15.npy')\n",
    "image_list_s16 = np.load('./np_data/cordinate/16.npy')\n",
    "image_list_s17 = np.load('./np_data/cordinate/17.npy')\n",
    "image_list_s18 = np.load('./np_data/cordinate/18.npy')\n",
    "# image_list_s19 = np.load('./np_data/19.npy')\n",
    "image_list_s20 = np.load('./np_data/cordinate/20.npy')\n",
    "# image_list_val = np.load('./np_data/12.npy')"
   ]
  },
  {
   "cell_type": "code",
   "execution_count": null,
   "metadata": {},
   "outputs": [],
   "source": [
    "cord_list = np.concatenate((image_list_s1, image_list_s2, image_list_s4,image_list_s5,\n",
    "                             image_list_s8, image_list_s9, image_list_s10,\n",
    "                             image_list_s11, image_list_s13, image_list_s14, image_list_s15,\n",
    "                             image_list_s17, image_list_s18, image_list_s20\n",
    "                            ), axis=0)\n",
    "del image_list_s1, image_list_s2, image_list_s4, image_list_s5\n",
    "del image_list_s8, image_list_s9, image_list_s10,image_list_s11, image_list_s13, image_list_s14\n",
    "del image_list_s15,image_list_s17,image_list_s18, image_list_s20\n",
    "\n",
    "cord_list_val = np.concatenate((image_list_s12, image_list_s16), axis=0)\n",
    "del image_list_s12, image_list_s16\n",
    "\n",
    "gc.collect()"
   ]
  },
  {
   "cell_type": "code",
   "execution_count": null,
   "metadata": {},
   "outputs": [],
   "source": [
    "print(cord_list.shape)\n",
    "print(cord_list_val.shape)"
   ]
  },
  {
   "cell_type": "markdown",
   "metadata": {},
   "source": [
    "# merge 20 txt"
   ]
  },
  {
   "cell_type": "code",
   "execution_count": null,
   "metadata": {},
   "outputs": [],
   "source": [
    "txt_num = [1,2,4,5,8,9,10,11,13,14,15,17,18,20]"
   ]
  },
  {
   "cell_type": "code",
   "execution_count": null,
   "metadata": {},
   "outputs": [],
   "source": [
    "temp = \"./txt_data/1.txt\"\n",
    "total_txt = []\n",
    "for num in txt_num:\n",
    "    if num != 1:\n",
    "        temp = temp.replace(temp.split(\"/\")[2], str(num)+\".txt\")\n",
    "    \n",
    "    txt = []\n",
    "    f = open(temp, encoding='UTF-8-sig')\n",
    "    for line in f:\n",
    "        line = line.strip('\\n')\n",
    "        txt.append(line)\n",
    "    \n",
    "    total_txt = total_txt + txt\n",
    "    \n",
    "print(len(total_txt))"
   ]
  },
  {
   "cell_type": "code",
   "execution_count": null,
   "metadata": {},
   "outputs": [],
   "source": [
    "# val \n",
    "temp1 = \"./txt_data/12.txt\"\n",
    "val_txt = []\n",
    "for num in [12,16]:\n",
    "    temp1 = temp1.replace(temp1.split(\"/\")[2], str(num)+\".txt\")\n",
    "    \n",
    "    txt1 = []\n",
    "    f = open(temp1, encoding='UTF-8-sig')\n",
    "    for line in f:\n",
    "        line = line.strip('\\n')\n",
    "        txt1.append(line)\n",
    "        \n",
    "    val_txt = val_txt + txt1\n",
    "\n",
    "print(len(val_txt))"
   ]
  },
  {
   "cell_type": "code",
   "execution_count": null,
   "metadata": {},
   "outputs": [],
   "source": [
    "--------------------------------------------------------------------------------------------------------------"
   ]
  },
  {
   "cell_type": "markdown",
   "metadata": {},
   "source": [
    "# Increase brightness data"
   ]
  },
  {
   "cell_type": "code",
   "execution_count": null,
   "metadata": {},
   "outputs": [],
   "source": [
    "# 3D numpy array to image\n",
    "# img = Image.fromarray(image_list[0][0].astype('uint8')).convert('RGB')\n",
    "# img.show()"
   ]
  },
  {
   "cell_type": "code",
   "execution_count": null,
   "metadata": {},
   "outputs": [],
   "source": [
    "def contrast_brightness_image(src1, a, g):\n",
    "    h, w, ch = src1.shape #获取shape的数值，height和width、通道\n",
    "\n",
    "    #新建全零图片数组src2,将height和width，类型设置为原图片的通道类型(色素全为零，输出为全黑图片)\n",
    "    src2 = np.zeros([h, w, ch], src1.dtype)\n",
    "    dst = cv2.addWeighted(src1, a, src2, 1-a, g)#addWeighted函数说明如下\n",
    "    \n",
    "    return(dst)\n",
    "#     img = Image.fromarray(dst.astype('uint8')).convert('RGB')\n",
    "#     img.show()\n",
    "#     cv2.imwrite('./s1/aaa/temp.jpg', dst)\n",
    "#     cv2.imshow(\"con-bri-demo\", dst)\n",
    "#     cv2.waitKey (0)\n",
    "#     cv2.destroyAllWindows()"
   ]
  },
  {
   "cell_type": "code",
   "execution_count": null,
   "metadata": {},
   "outputs": [],
   "source": [
    "# contrast_brightness_image(image_list[0][0], 1.4, 0)\n",
    "# img = Image.fromarray(image_list[0][0].astype('uint8')).convert('RGB')\n",
    "# img.show()"
   ]
  },
  {
   "cell_type": "code",
   "execution_count": null,
   "metadata": {},
   "outputs": [],
   "source": [
    "bright_data = []\n",
    "for seq in image_list:\n",
    "    for pic in seq:\n",
    "        colors = contrast_brightness_image(pic, 1.4, 0)\n",
    "        bright_data.append(colors)"
   ]
  },
  {
   "cell_type": "code",
   "execution_count": null,
   "metadata": {},
   "outputs": [],
   "source": [
    "bright_data = np.array(bright_data)\n",
    "print(bright_data.shape)"
   ]
  },
  {
   "cell_type": "code",
   "execution_count": null,
   "metadata": {},
   "outputs": [],
   "source": [
    "bright_data = bright_data.reshape(( int(len(bright_data)/maxlen) , maxlen, 50, 100, 3))\n",
    "print(bright_data.shape)"
   ]
  },
  {
   "cell_type": "code",
   "execution_count": null,
   "metadata": {},
   "outputs": [],
   "source": [
    "bright_txt = total_txt\n",
    "print(len(bright_txt))"
   ]
  },
  {
   "cell_type": "code",
   "execution_count": null,
   "metadata": {},
   "outputs": [],
   "source": [
    "--------------------------------------------------------------------------------------------------------------"
   ]
  },
  {
   "cell_type": "code",
   "execution_count": null,
   "metadata": {},
   "outputs": [],
   "source": [
    "# save npy file\n",
    "# np.save('./np_data/image_bright', bright_data)"
   ]
  },
  {
   "cell_type": "code",
   "execution_count": null,
   "metadata": {},
   "outputs": [],
   "source": [
    "--------------------------------------------------------------------------------------------------------------"
   ]
  },
  {
   "cell_type": "markdown",
   "metadata": {},
   "source": [
    "# merge"
   ]
  },
  {
   "cell_type": "code",
   "execution_count": null,
   "metadata": {},
   "outputs": [],
   "source": [
    "bright_data = np.load('./np_data/image_bright.npy')\n",
    "print(bright_data.shape)\n",
    "bright_txt = total_txt\n",
    "print(len(bright_txt))"
   ]
  },
  {
   "cell_type": "code",
   "execution_count": null,
   "metadata": {},
   "outputs": [],
   "source": [
    "# merge original and change\n",
    "image_list = np.append(image_list, bright_data, axis=0)\n",
    "total_txt = total_txt + bright_txt\n",
    "print(image_list.shape, len(total_txt))\n",
    "\n",
    "del bright_data\n",
    "gc.collect()"
   ]
  },
  {
   "cell_type": "code",
   "execution_count": null,
   "metadata": {},
   "outputs": [],
   "source": [
    "cord_list = np.concatenate((cord_list, cord_list), axis=0)\n",
    "print(cord_list.shape)"
   ]
  },
  {
   "cell_type": "code",
   "execution_count": null,
   "metadata": {},
   "outputs": [],
   "source": []
  },
  {
   "cell_type": "code",
   "execution_count": null,
   "metadata": {},
   "outputs": [],
   "source": [
    "--------------------------------------------------------------------------------------------------------------"
   ]
  },
  {
   "cell_type": "markdown",
   "metadata": {},
   "source": [
    "# data shuffle and split"
   ]
  },
  {
   "cell_type": "code",
   "execution_count": null,
   "metadata": {},
   "outputs": [],
   "source": [
    "temp_zip = list(zip(image_list, cord_list, total_txt))\n",
    "import random\n",
    "random.shuffle(temp_zip)\n",
    "image_list, cord_list, total_txt = zip(*temp_zip)\n",
    "del temp_zip\n",
    "gc.collect()\n",
    "\n",
    "image_list = np.asarray(image_list)\n",
    "print(image_list.shape)\n",
    "cord_list = np.asarray(cord_list)\n",
    "print(cord_list.shape)\n",
    "total_txt = np.asarray(total_txt)\n",
    "total_txt = total_txt.tolist()\n",
    "print(len(total_txt))"
   ]
  },
  {
   "cell_type": "code",
   "execution_count": null,
   "metadata": {},
   "outputs": [],
   "source": [
    "temp_zip_val = list(zip(image_list_val, cord_list_val, val_txt))\n",
    "import random\n",
    "random.shuffle(temp_zip_val)\n",
    "image_list_val, cord_list_val, val_txt = zip(*temp_zip_val)\n",
    "del temp_zip_val\n",
    "gc.collect()\n",
    "\n",
    "image_list_val = np.asarray(image_list_val)\n",
    "print(image_list_val.shape)\n",
    "cord_list_val = np.asarray(cord_list_val)\n",
    "print(cord_list_val.shape)\n",
    "val_txt = np.asarray(val_txt)\n",
    "val_txt = val_txt.tolist()\n",
    "print(len(val_txt))"
   ]
  },
  {
   "cell_type": "code",
   "execution_count": null,
   "metadata": {},
   "outputs": [],
   "source": [
    "-----------------------------------------------------------------------------------------------------------"
   ]
  },
  {
   "cell_type": "markdown",
   "metadata": {},
   "source": [
    "# save numpy and txt file"
   ]
  },
  {
   "cell_type": "code",
   "execution_count": null,
   "metadata": {},
   "outputs": [],
   "source": [
    "# save npy file\n",
    "np.save('./split_data/image_cordinate/image_bright_train', image_list)\n",
    "np.save('./split_data/image_cordinate/image_bright_val', image_list_val)\n",
    "np.save('./split_data/image_cordinate/cord_train', cord_list)\n",
    "np.save('./split_data/image_cordinate/cord_val', cord_list_val)\n",
    "\n",
    "# save txt file\n",
    "with open('./split_data/image_cordinate/txt_bright_cord_train.txt', 'w') as txt_train_data:\n",
    "    for txt in total_txt:\n",
    "        txt_train_data.write(txt)\n",
    "        txt_train_data.write('\\n')\n",
    "with open('./split_data/image_cordinate/txt_bright_cord_val.txt', 'w') as txt_val_data:\n",
    "    for txt in val_txt:\n",
    "        txt_val_data.write(txt)\n",
    "        txt_val_data.write('\\n')"
   ]
  },
  {
   "cell_type": "code",
   "execution_count": null,
   "metadata": {},
   "outputs": [],
   "source": [
    "-----------------------------------------------------------------------------------------------------------"
   ]
  },
  {
   "cell_type": "markdown",
   "metadata": {},
   "source": [
    "# load image and txt"
   ]
  },
  {
   "cell_type": "code",
   "execution_count": null,
   "metadata": {},
   "outputs": [],
   "source": [
    "import os \n",
    "import numpy as np\n",
    "import cv2\n",
    "from glob import glob\n",
    "from PIL import Image\n",
    "import imutils\n",
    "import gc"
   ]
  },
  {
   "cell_type": "code",
   "execution_count": null,
   "metadata": {},
   "outputs": [],
   "source": [
    "image_train = np.load('./split_data/image_train.npy')\n",
    "image_val = np.load('./split_data/image_val.npy')"
   ]
  },
  {
   "cell_type": "code",
   "execution_count": null,
   "metadata": {},
   "outputs": [],
   "source": [
    "f_val = open('./split_data/txt_val.txt')\n",
    "txt_val = []\n",
    "for line in f_val:\n",
    "    line = line.strip('\\n')\n",
    "    txt_val.append(line)\n",
    "    \n",
    "f_train = open('./split_data/txt_train.txt')\n",
    "txt_train = []\n",
    "for line in f_train:\n",
    "    line = line.strip('\\n')\n",
    "    txt_train.append(line)"
   ]
  },
  {
   "cell_type": "code",
   "execution_count": null,
   "metadata": {},
   "outputs": [],
   "source": [
    "print(image_train.shape)\n",
    "print(image_val.shape)"
   ]
  },
  {
   "cell_type": "code",
   "execution_count": null,
   "metadata": {},
   "outputs": [],
   "source": [
    "print(len(txt_train))\n",
    "print(len(txt_val))"
   ]
  },
  {
   "cell_type": "code",
   "execution_count": null,
   "metadata": {},
   "outputs": [],
   "source": []
  }
 ],
 "metadata": {
  "kernelspec": {
   "display_name": "Python 3",
   "language": "python",
   "name": "python3"
  },
  "language_info": {
   "codemirror_mode": {
    "name": "ipython",
    "version": 3
   },
   "file_extension": ".py",
   "mimetype": "text/x-python",
   "name": "python",
   "nbconvert_exporter": "python",
   "pygments_lexer": "ipython3",
   "version": "3.7.3"
  }
 },
 "nbformat": 4,
 "nbformat_minor": 2
}
