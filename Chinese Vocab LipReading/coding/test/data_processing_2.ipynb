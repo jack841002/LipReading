{
 "cells": [
  {
   "cell_type": "code",
   "execution_count": null,
   "metadata": {},
   "outputs": [],
   "source": [
    "import os \n",
    "import numpy as np\n",
    "import cv2\n",
    "from glob import glob\n",
    "from PIL import Image\n",
    "import imutils\n",
    "import gc"
   ]
  },
  {
   "cell_type": "markdown",
   "metadata": {},
   "source": [
    "# merge 20 image (npy)"
   ]
  },
  {
   "cell_type": "code",
   "execution_count": null,
   "metadata": {},
   "outputs": [],
   "source": [
    "image_list_s1 = np.load('./np_data/1.npy')\n",
    "image_list_s2 = np.load('./np_data/2.npy')\n",
    "# image_list_s3 = np.load('./np_data/3.npy')\n",
    "image_list_s4 = np.load('./np_data/4.npy')\n",
    "image_list_s5 = np.load('./np_data/5.npy')\n",
    "# image_list_s6 = np.load('./np_data/6.npy')\n",
    "# image_list_s7 = np.load('./np_data/7.npy')\n",
    "image_list_s8 = np.load('./np_data/8.npy')\n",
    "image_list_s9 = np.load('./np_data/9.npy')\n",
    "image_list_s10 = np.load('./np_data/10.npy')\n",
    "image_list_s11 = np.load('./np_data/11.npy')\n",
    "image_list_s12 = np.load('./np_data/12.npy')\n",
    "image_list_s13 = np.load('./np_data/13.npy')\n",
    "image_list_s14 = np.load('./np_data/14.npy')\n",
    "image_list_s15 = np.load('./np_data/15.npy')\n",
    "image_list_s16 = np.load('./np_data/16.npy')\n",
    "image_list_s17 = np.load('./np_data/17.npy')\n",
    "image_list_s18 = np.load('./np_data/18.npy')\n",
    "# image_list_s19 = np.load('./np_data/19.npy')\n",
    "image_list_s20 = np.load('./np_data/20.npy')\n",
    "# image_list_val = np.load('./np_data/12.npy')"
   ]
  },
  {
   "cell_type": "code",
   "execution_count": null,
   "metadata": {},
   "outputs": [],
   "source": [
    "--------------------------------------------------------------------------------------------------------------"
   ]
  },
  {
   "cell_type": "code",
   "execution_count": null,
   "metadata": {},
   "outputs": [],
   "source": [
    "image_list_s1 = image_list_s1.astype('float32')\n",
    "image_list_s2 = image_list_s2.astype('float32')\n",
    "image_list_s4 = image_list_s4.astype('float32')\n",
    "image_list_s5 = image_list_s5.astype('float32')\n",
    "image_list_s8 = image_list_s8.astype('float32')\n",
    "image_list_s9 = image_list_s9.astype('float32')\n",
    "image_list_s10 = image_list_s10.astype('float32')\n",
    "image_list_s11 = image_list_s11.astype('float32')\n",
    "image_list_s12 = image_list_s12.astype('float32')\n",
    "image_list_s13 = image_list_s13.astype('float32')\n",
    "image_list_s14 = image_list_s14.astype('float32')\n",
    "image_list_s15 = image_list_s15.astype('float32')\n",
    "image_list_s16 = image_list_s16.astype('float32')\n",
    "image_list_s17 = image_list_s17.astype('float32')\n",
    "image_list_s18 = image_list_s18.astype('float32')\n",
    "image_list_s20 = image_list_s20.astype('float32')"
   ]
  },
  {
   "cell_type": "code",
   "execution_count": null,
   "metadata": {},
   "outputs": [],
   "source": [
    "# int64 to float32\n",
    "# save npy file\n",
    "np.save('./np_data/1.npy', image_list_s1)\n",
    "np.save('./np_data/2.npy', image_list_s2)\n",
    "np.save('./np_data/4.npy', image_list_s4)\n",
    "np.save('./np_data/5.npy', image_list_s5)\n",
    "np.save('./np_data/8.npy', image_list_s8)\n",
    "np.save('./np_data/9.npy', image_list_s9)\n",
    "np.save('./np_data/10.npy', image_list_s10)\n",
    "np.save('./np_data/11.npy', image_list_s11)\n",
    "np.save('./np_data/12.npy', image_list_s12)\n",
    "np.save('./np_data/13.npy', image_list_s13)\n",
    "np.save('./np_data/14.npy', image_list_s14)\n",
    "np.save('./np_data/15.npy', image_list_s15)\n",
    "np.save('./np_data/16.npy', image_list_s16)\n",
    "np.save('./np_data/17.npy', image_list_s17)\n",
    "np.save('./np_data/18.npy', image_list_s18)\n",
    "np.save('./np_data/20.npy', image_list_s20)"
   ]
  },
  {
   "cell_type": "code",
   "execution_count": null,
   "metadata": {},
   "outputs": [],
   "source": [
    "--------------------------------------------------------------------------------------------------------------"
   ]
  },
  {
   "cell_type": "code",
   "execution_count": null,
   "metadata": {},
   "outputs": [],
   "source": [
    "image_list = np.concatenate((image_list_s1, image_list_s4,image_list_s5,\n",
    "                             image_list_s8,image_list_s10,\n",
    "                             image_list_s11, image_list_s12, image_list_s13, image_list_s14, image_list_s15,\n",
    "                             image_list_s16, image_list_s17, image_list_s18, image_list_s20\n",
    "                            ), axis=0)\n",
    "del image_list_s1,image_list_s4, image_list_s5\n",
    "del image_list_s8,image_list_s10,image_list_s11, image_list_s12, image_list_s13, image_list_s14\n",
    "del image_list_s15,image_list_s16,image_list_s17,image_list_s18, image_list_s20\n",
    "\n",
    "image_list_val = np.concatenate((image_list_s2, image_list_s9), axis=0)\n",
    "del image_list_s2, image_list_s9\n",
    "\n",
    "gc.collect()"
   ]
  },
  {
   "cell_type": "code",
   "execution_count": null,
   "metadata": {},
   "outputs": [],
   "source": [
    "print(image_list.shape)"
   ]
  },
  {
   "cell_type": "code",
   "execution_count": null,
   "metadata": {},
   "outputs": [],
   "source": [
    "maxlen = 77\n",
    "image_list = image_list.reshape(( int(len(image_list)/maxlen) , maxlen, 50, 100, 3))\n",
    "print(image_list.shape)\n",
    "image_list_val = image_list_val.reshape(( int(len(image_list_val)/maxlen) , maxlen, 50, 100, 3))\n",
    "print(image_list_val.shape)"
   ]
  },
  {
   "cell_type": "markdown",
   "metadata": {},
   "source": [
    "# merge 20 txt"
   ]
  },
  {
   "cell_type": "code",
   "execution_count": null,
   "metadata": {},
   "outputs": [],
   "source": [
    "txt_num = [1,4,5,8,10,11,12,13,14,15,16,17,18,20]"
   ]
  },
  {
   "cell_type": "code",
   "execution_count": null,
   "metadata": {},
   "outputs": [],
   "source": [
    "temp = \"./txt_data/1.txt\"\n",
    "total_txt = []\n",
    "for num in txt_num:\n",
    "    if num != 1:\n",
    "        temp = temp.replace(temp.split(\"/\")[2], str(num)+\".txt\")\n",
    "    \n",
    "    txt = []\n",
    "    f = open(temp, encoding='UTF-8-sig')\n",
    "    for line in f:\n",
    "        line = line.strip('\\n')\n",
    "        txt.append(line)\n",
    "    \n",
    "    total_txt = total_txt + txt\n",
    "    \n",
    "print(len(total_txt))"
   ]
  },
  {
   "cell_type": "code",
   "execution_count": null,
   "metadata": {},
   "outputs": [],
   "source": [
    "# val \n",
    "temp1 = \"./txt_data/2.txt\"\n",
    "val_txt = []\n",
    "for num in [2,9]:\n",
    "    temp1 = temp1.replace(temp1.split(\"/\")[2], str(num)+\".txt\")\n",
    "    \n",
    "    txt1 = []\n",
    "    f = open(temp1, encoding='UTF-8-sig')\n",
    "    for line in f:\n",
    "        line = line.strip('\\n')\n",
    "        txt1.append(line)\n",
    "        \n",
    "    val_txt = val_txt + txt1\n",
    "\n",
    "print(len(val_txt))"
   ]
  },
  {
   "cell_type": "markdown",
   "metadata": {},
   "source": [
    "# data shuffle and split"
   ]
  },
  {
   "cell_type": "code",
   "execution_count": null,
   "metadata": {},
   "outputs": [],
   "source": [
    "temp_zip = list(zip(image_list, total_txt))\n",
    "import random\n",
    "random.shuffle(temp_zip)\n",
    "image_list, total_txt = zip(*temp_zip)\n",
    "del temp_zip\n",
    "gc.collect()\n",
    "\n",
    "image_list = np.asarray(image_list)\n",
    "print(image_list.shape)\n",
    "total_txt = np.asarray(total_txt)\n",
    "total_txt = total_txt.tolist()\n",
    "print(len(total_txt))"
   ]
  },
  {
   "cell_type": "code",
   "execution_count": null,
   "metadata": {},
   "outputs": [],
   "source": [
    "temp_zip_val = list(zip(image_list_val, val_txt))\n",
    "import random\n",
    "random.shuffle(temp_zip_val)\n",
    "image_list_val, val_txt = zip(*temp_zip_val)\n",
    "del temp_zip_val\n",
    "gc.collect()\n",
    "\n",
    "image_list_val = np.asarray(image_list_val)\n",
    "print(image_list_val.shape)\n",
    "val_txt = np.asarray(val_txt)\n",
    "val_txt = val_txt.tolist()\n",
    "print(len(val_txt))"
   ]
  },
  {
   "cell_type": "code",
   "execution_count": null,
   "metadata": {},
   "outputs": [],
   "source": [
    "-----------------------------------------------------------------------------------------------------------"
   ]
  },
  {
   "cell_type": "markdown",
   "metadata": {},
   "source": [
    "# save numpy and txt file"
   ]
  },
  {
   "cell_type": "code",
   "execution_count": null,
   "metadata": {},
   "outputs": [],
   "source": [
    "# save npy file\n",
    "np.save('./split_data/image_train', image_list)\n",
    "np.save('./split_data/image_val', image_list_val)\n",
    "\n",
    "# save txt file\n",
    "with open('./split_data/txt_train.txt', 'w') as txt_train_data:\n",
    "    for txt in total_txt:\n",
    "        txt_train_data.write(txt)\n",
    "        txt_train_data.write('\\n')\n",
    "with open('./split_data/txt_val.txt', 'w') as txt_val_data:\n",
    "    for txt in val_txt:\n",
    "        txt_val_data.write(txt)\n",
    "        txt_val_data.write('\\n')"
   ]
  },
  {
   "cell_type": "code",
   "execution_count": null,
   "metadata": {},
   "outputs": [],
   "source": [
    "-----------------------------------------------------------------------------------------------------------"
   ]
  },
  {
   "cell_type": "markdown",
   "metadata": {},
   "source": [
    "# load image and txt"
   ]
  },
  {
   "cell_type": "code",
   "execution_count": null,
   "metadata": {},
   "outputs": [],
   "source": [
    "import os \n",
    "import numpy as np\n",
    "import cv2\n",
    "from glob import glob\n",
    "from PIL import Image\n",
    "import imutils\n",
    "import gc"
   ]
  },
  {
   "cell_type": "code",
   "execution_count": null,
   "metadata": {},
   "outputs": [],
   "source": [
    "image_train = np.load('./split_data/image_train.npy')\n",
    "image_val = np.load('./split_data/image_val.npy')"
   ]
  },
  {
   "cell_type": "code",
   "execution_count": null,
   "metadata": {},
   "outputs": [],
   "source": [
    "f_val = open('./split_data/txt_val.txt')\n",
    "txt_val = []\n",
    "for line in f_val:\n",
    "    line = line.strip('\\n')\n",
    "    txt_val.append(line)\n",
    "    \n",
    "f_train = open('./split_data/txt_train.txt')\n",
    "txt_train = []\n",
    "for line in f_train:\n",
    "    line = line.strip('\\n')\n",
    "    txt_train.append(line)"
   ]
  },
  {
   "cell_type": "code",
   "execution_count": null,
   "metadata": {},
   "outputs": [],
   "source": [
    "print(image_train.shape)\n",
    "print(image_val.shape)"
   ]
  },
  {
   "cell_type": "code",
   "execution_count": null,
   "metadata": {},
   "outputs": [],
   "source": [
    "print(len(txt_train))\n",
    "print(len(txt_val))"
   ]
  },
  {
   "cell_type": "code",
   "execution_count": null,
   "metadata": {},
   "outputs": [],
   "source": []
  }
 ],
 "metadata": {
  "kernelspec": {
   "display_name": "Python 3",
   "language": "python",
   "name": "python3"
  },
  "language_info": {
   "codemirror_mode": {
    "name": "ipython",
    "version": 3
   },
   "file_extension": ".py",
   "mimetype": "text/x-python",
   "name": "python",
   "nbconvert_exporter": "python",
   "pygments_lexer": "ipython3",
   "version": "3.7.3"
  }
 },
 "nbformat": 4,
 "nbformat_minor": 2
}
